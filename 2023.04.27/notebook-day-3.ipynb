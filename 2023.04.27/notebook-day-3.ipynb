{
 "cells": [
  {
   "cell_type": "code",
   "execution_count": 1,
   "id": "105ef9b6",
   "metadata": {
    "_cell_guid": "b1076dfc-b9ad-4769-8c92-a6c4dae69d19",
    "_uuid": "8f2839f25d086af736a60e9eeb907d3b93b6e0e5",
    "execution": {
     "iopub.execute_input": "2023-04-27T08:53:58.512456Z",
     "iopub.status.busy": "2023-04-27T08:53:58.511841Z",
     "iopub.status.idle": "2023-04-27T08:53:59.979311Z",
     "shell.execute_reply": "2023-04-27T08:53:59.978112Z"
    },
    "papermill": {
     "duration": 1.481453,
     "end_time": "2023-04-27T08:53:59.982360",
     "exception": false,
     "start_time": "2023-04-27T08:53:58.500907",
     "status": "completed"
    },
    "tags": []
   },
   "outputs": [],
   "source": [
    "import numpy as np # linear algebra\n",
    "import pandas as pd # data processing, CSV file I/O (e.g. pd.read_csv)\n",
    "import matplotlib.pyplot as plt\n",
    "from sklearn import svm\n",
    "from sklearn.metrics import f1_score\n",
    "from sklearn.naive_bayes import GaussianNB,ComplementNB,MultinomialNB,BernoulliNB,CategoricalNB\n",
    "from sklearn.tree import DecisionTreeClassifier\n",
    "from sklearn.ensemble import RandomForestClassifier\n",
    "from sklearn.neighbors import KNeighborsClassifier\n",
    "from sklearn.neural_network import MLPClassifier"
   ]
  },
  {
   "cell_type": "markdown",
   "id": "4f51d052",
   "metadata": {
    "papermill": {
     "duration": 0.007108,
     "end_time": "2023-04-27T08:53:59.997207",
     "exception": false,
     "start_time": "2023-04-27T08:53:59.990099",
     "status": "completed"
    },
    "tags": []
   },
   "source": [
    "# Loading the Data"
   ]
  },
  {
   "cell_type": "code",
   "execution_count": 2,
   "id": "f0a39691",
   "metadata": {
    "execution": {
     "iopub.execute_input": "2023-04-27T08:54:00.014513Z",
     "iopub.status.busy": "2023-04-27T08:54:00.014065Z",
     "iopub.status.idle": "2023-04-27T08:54:01.215084Z",
     "shell.execute_reply": "2023-04-27T08:54:01.213762Z"
    },
    "papermill": {
     "duration": 1.213246,
     "end_time": "2023-04-27T08:54:01.217996",
     "exception": false,
     "start_time": "2023-04-27T08:54:00.004750",
     "status": "completed"
    },
    "tags": []
   },
   "outputs": [
    {
     "name": "stdout",
     "output_type": "stream",
     "text": [
      "{'GINGER BEER 1.5L': 0, 'CREAM SODA 1.5L': 1, 'CREAM SODA 500ML': 2, 'GINGER BEER 1L': 3, 'ORANGE BARLEY 1.5L': 4, 'NECTO 1.5L': 5, 'SODA 500ML': 6, 'BOTTLED DRINKING WATER 500ML': 7, 'SODA PET 1.5L': 8, 'FIT O ORANGE 1L': 9, 'LEMONADE 1.5L': 10, 'SODA 1L': 11, 'TONIC PET 500ML': 12, 'GINGER BEER 500ML': 13, 'CREAM SODA APPLE POP 1L': 14, 'FIT O ORANGE 200ML': 15, 'BOTTLED DRINKING WATER 1.5L': 16, 'ORANGE CRUSH 1.5L': 17, 'FIT O MIXED FRUIT 200ML': 18, 'FIT O MIXED FRUIT 1L': 19, 'FIT O MANGO 1L': 20, 'LEMONADE 500ML': 21, 'FIT O MANGO 200ML': 22, 'GINGER BEER SUGAR FREE 500ML': 23, 'DRY GINGER ALE PET 500ML': 24, 'STRAWBERRY MILK 180ML': 25, 'ORANGE CRUSH 500ML': 26, 'TWISTEE APPLE 1L': 27, 'NECTO 500ML': 28, 'CREAM SODA 1L': 29, 'GINGER BEER 400ML': 30, 'KIK COLA 1L': 31, 'LEMONADE 1L': 32, 'ORANGE CRUSH 1L': 33, 'NECTO 1L': 34, 'LIME CRUSH JUICE 1L': 35, 'CHOCOLATE MILK 180ML': 36}\n"
     ]
    }
   ],
   "source": [
    "store_info = pd.read_csv(\"/kaggle/input/data-storm-4/Store-info.csv\")\n",
    "transactions=pd.read_csv(\"/kaggle/input/data-storm-4/Historical-transaction-data.csv\")\n",
    "testing = pd.read_csv(\"/kaggle/input/data-storm-4/Testing-data.csv\")\n",
    "# transactions[\"transaction_date\"]\n",
    "# len(transactions[transactions[\"shop_id\"] ==\"SHOP008\"][\"item_description\"].unique())\n",
    "# transactions = transactions[~transactions[\"invoice_id\"].isnull()]\n",
    "JUICES = {name:index for index,name in enumerate(dict(transactions[\"item_description\"].value_counts()).keys())}\n",
    "print(JUICES)\n",
    "\n",
    "def create_juice_vector(series):\n",
    "    juice_series=series[\"item_description\"].value_counts()\n",
    "    ar = np.zeros(len(JUICES),int)\n",
    "    for a,b in dict(juice_series).items():\n",
    "#         print(a)\n",
    "        ar[JUICES[a]]=b\n",
    "    return ar\n",
    "\n",
    "\n",
    "\n"
   ]
  },
  {
   "cell_type": "code",
   "execution_count": 3,
   "id": "48fe25b7",
   "metadata": {
    "execution": {
     "iopub.execute_input": "2023-04-27T08:54:01.235141Z",
     "iopub.status.busy": "2023-04-27T08:54:01.234743Z",
     "iopub.status.idle": "2023-04-27T08:54:01.985904Z",
     "shell.execute_reply": "2023-04-27T08:54:01.984736Z"
    },
    "papermill": {
     "duration": 0.764378,
     "end_time": "2023-04-27T08:54:01.989965",
     "exception": false,
     "start_time": "2023-04-27T08:54:01.225587",
     "status": "completed"
    },
    "tags": []
   },
   "outputs": [
    {
     "data": {
      "text/plain": [
       "array([ 75.,  60.,  51.,  76.,  58.,  81.,  69.,  77.,  93.,  50.,  51.,\n",
       "        45.,  61.,  58.,  41.,  55.,  43.,  24.,  52.,  32.,  37.,  27.,\n",
       "        42.,  31.,  27.,  35.,  39.,  43.,  61.,  52.,  58.,  41.,  21.,\n",
       "        39.,  65.,  61.,  73.,  50.,  59.,  34.,  28.,  34., 101.,  85.,\n",
       "        76.,  83.,  70.,  89.,  72.,  75.,  52.,  74.,  58.,  80.,  60.,\n",
       "        93.,  76., 104., 109.,  54.,  89.,  53.])"
      ]
     },
     "execution_count": 3,
     "metadata": {},
     "output_type": "execute_result"
    }
   ],
   "source": [
    "## covert data to integer\n",
    "def stringToDate(dstr):\n",
    "    dateStringList = dstr.split(\"T\")\n",
    "    dateExtracted = dateStringList[0]\n",
    "    yearMonDay = dateExtracted.split(\"-\")\n",
    "    mon = int(yearMonDay[1])\n",
    "    date = int(yearMonDay[2])\n",
    "    if mon == 10:\n",
    "        return date-15\n",
    "    elif mon == 11:\n",
    "        return date+16\n",
    "    return date+46\n",
    "transactions[\"date\"] = transactions[\"transaction_date\"].map(str).map(stringToDate)\n",
    "transactions.head()\n",
    "DATE_LEN = 62\n",
    "def create_time_vector(series):\n",
    "    time_series = series[\"date\"].value_counts()\n",
    "    ar = np.zeros(DATE_LEN)\n",
    "    for a,b in dict(time_series).items():\n",
    "        ar[a] = b\n",
    "    return ar\n",
    "create_time_vector(transactions[transactions[\"shop_id\"]==\"SHOP007\"])"
   ]
  },
  {
   "cell_type": "markdown",
   "id": "d27add87",
   "metadata": {
    "papermill": {
     "duration": 0.007453,
     "end_time": "2023-04-27T08:54:02.005258",
     "exception": false,
     "start_time": "2023-04-27T08:54:01.997805",
     "status": "completed"
    },
    "tags": []
   },
   "source": [
    "# Basic Feature Engineering and Seperating Training and Testing"
   ]
  },
  {
   "cell_type": "code",
   "execution_count": 4,
   "id": "e7afa726",
   "metadata": {
    "execution": {
     "iopub.execute_input": "2023-04-27T08:54:02.022819Z",
     "iopub.status.busy": "2023-04-27T08:54:02.022392Z",
     "iopub.status.idle": "2023-04-27T08:54:02.036511Z",
     "shell.execute_reply": "2023-04-27T08:54:02.035183Z"
    },
    "papermill": {
     "duration": 0.025866,
     "end_time": "2023-04-27T08:54:02.038904",
     "exception": false,
     "start_time": "2023-04-27T08:54:02.013038",
     "status": "completed"
    },
    "tags": []
   },
   "outputs": [],
   "source": [
    "def compute_combined_data():\n",
    "    transactions[\"income\"] = transactions[\"item_price\"]*transactions[\"quantity_sold\"]\n",
    "    transactions[\"weighted_income\"] = transactions[\"income\"]*(transactions[\"date\"]/max(transactions[\"date\"])+1)\n",
    "    transactions[\"weighted_quantity\"] = transactions[\"quantity_sold\"]*(transactions[\"date\"]/max(transactions[\"date\"])+1)\n",
    "\n",
    "    combined_data = store_info[['shop_id', 'shop_area_sq_ft']].copy()\n",
    "    combined_data['income']= combined_data[\"shop_id\"].map(\n",
    "        lambda key:transactions[transactions[\"shop_id\"]==key][\"income\"].sum()\n",
    "    )\n",
    "    combined_data[\"quantity\"]=combined_data[\"shop_id\"].map(\n",
    "        lambda key:transactions[transactions[\"shop_id\"]==key][\"quantity_sold\"].sum()\n",
    "    )\n",
    "    combined_data[\"product_diversity\"]=combined_data[\"shop_id\"].map(\n",
    "        lambda key:len(transactions[transactions[\"shop_id\"] ==key][\"item_description\"].unique())\n",
    "    )\n",
    "    combined_data[\"customer_diversity\"]=combined_data[\"shop_id\"].map(\n",
    "        lambda key:len(transactions[transactions[\"shop_id\"] ==key][\"customer_id\"].unique())\n",
    "    )\n",
    "    combined_data[\"income_growth\"]=combined_data[\"shop_id\"].map(\n",
    "        lambda key:transactions[transactions[\"shop_id\"] ==key][\"weighted_income\"].sum()\n",
    "    )\n",
    "    combined_data[\"income_growth\"] = combined_data[\"income_growth\"]/combined_data[\"income\"]\n",
    "    \n",
    "    combined_data[\"quantity_growth\"]=combined_data[\"shop_id\"].map(\n",
    "        lambda key:transactions[transactions[\"shop_id\"] ==key][\"weighted_quantity\"].sum()\n",
    "    )\n",
    "    combined_data[\"quantity_growth\"] = combined_data[\"quantity_growth\"]/combined_data[\"quantity\"]\n",
    "    \n",
    "\n",
    "    \n",
    "    combined_data = combined_data.rename(columns = {\"shop_area_sq_ft\":\"area\"})\n",
    "    combined_data[\"profile\"] = store_info[\"shop_profile\"].copy()\n",
    "    combined_data[\"income_per_area\"]=combined_data[\"income\"]/combined_data[\"area\"]\n",
    "    combined_data[\"quantity_per_area\"]=combined_data[\"quantity\"]/combined_data[\"area\"]\n",
    "    combined_data[\"products_per_area\"]=combined_data[\"product_diversity\"]/combined_data[\"area\"]\n",
    "    combined_data[\"number_of_transactions\"] = combined_data[\"shop_id\"].map(\n",
    "        lambda key:len(transactions[transactions[\"shop_id\"] ==key])\n",
    "    )/combined_data[\"area\"]\n",
    "    \n",
    "    print(combined_data[\"number_of_transactions\"].sum())\n",
    "    return combined_data\n"
   ]
  },
  {
   "cell_type": "code",
   "execution_count": 5,
   "id": "5187a8e5",
   "metadata": {
    "execution": {
     "iopub.execute_input": "2023-04-27T08:54:02.056640Z",
     "iopub.status.busy": "2023-04-27T08:54:02.055926Z",
     "iopub.status.idle": "2023-04-27T08:54:40.789719Z",
     "shell.execute_reply": "2023-04-27T08:54:40.788506Z"
    },
    "papermill": {
     "duration": 38.745975,
     "end_time": "2023-04-27T08:54:40.792687",
     "exception": false,
     "start_time": "2023-04-27T08:54:02.046712",
     "status": "completed"
    },
    "tags": []
   },
   "outputs": [
    {
     "name": "stdout",
     "output_type": "stream",
     "text": [
      "791.8345572731404\n"
     ]
    }
   ],
   "source": [
    "RECALCULATE_FEATURES = True\n",
    "combined_data = None\n",
    "if(RECALCULATE_FEATURES):\n",
    "    combined_data = compute_combined_data()\n",
    "    combined_data.to_csv(\"/kaggle/working/combined_data.csv\")\n",
    "else:\n",
    "    combined_data = pd.read_csv(\"/kaggle/working/combined_data.csv\")\n",
    "\n",
    "combined_data[\"jv\"]=combined_data[\"shop_id\"].map(\n",
    "    lambda key:create_juice_vector(transactions[transactions[\"shop_id\"]==key])\n",
    ")\n",
    "combined_data[\"tv\"]=combined_data[\"shop_id\"].map(\n",
    "    lambda key:create_time_vector(transactions[transactions[\"shop_id\"]==key])\n",
    ")\n",
    "    "
   ]
  },
  {
   "cell_type": "code",
   "execution_count": 6,
   "id": "315c9f4d",
   "metadata": {
    "execution": {
     "iopub.execute_input": "2023-04-27T08:54:40.810448Z",
     "iopub.status.busy": "2023-04-27T08:54:40.810028Z",
     "iopub.status.idle": "2023-04-27T08:54:40.817536Z",
     "shell.execute_reply": "2023-04-27T08:54:40.816453Z"
    },
    "papermill": {
     "duration": 0.019347,
     "end_time": "2023-04-27T08:54:40.820009",
     "exception": false,
     "start_time": "2023-04-27T08:54:40.800662",
     "status": "completed"
    },
    "tags": []
   },
   "outputs": [],
   "source": [
    "# Seprating Training and Testing\n",
    "training_data = combined_data[~combined_data[\"profile\"].isnull()].copy()\n",
    "testing_data = combined_data[combined_data[\"profile\"].isnull()].copy()\n"
   ]
  },
  {
   "cell_type": "code",
   "execution_count": 7,
   "id": "967b909f",
   "metadata": {
    "execution": {
     "iopub.execute_input": "2023-04-27T08:54:40.837618Z",
     "iopub.status.busy": "2023-04-27T08:54:40.837182Z",
     "iopub.status.idle": "2023-04-27T08:54:40.848307Z",
     "shell.execute_reply": "2023-04-27T08:54:40.847247Z"
    },
    "papermill": {
     "duration": 0.022992,
     "end_time": "2023-04-27T08:54:40.850791",
     "exception": false,
     "start_time": "2023-04-27T08:54:40.827799",
     "status": "completed"
    },
    "tags": []
   },
   "outputs": [],
   "source": [
    "#Remapping profiles to numbers\n",
    "LOW = 0\n",
    "MODERATE = 1\n",
    "HIGH = 2\n",
    "PREDICTION_CLASSES = [LOW,MODERATE,HIGH]\n",
    "# Basic Feaure Names\n",
    "ID = \"shop_id\"\n",
    "PROFILE = \"profile\"\n",
    "QUANTITY = \"quantity\"\n",
    "INCOME = \"income\"\n",
    "AREA = \"area\"\n",
    "PRODUCT_DIVERSITY = \"product_diversity\"\n",
    "CUSTOMER_DIVERSITY = \"customer_diversity\"\n",
    "INCOME_PER_AREA = \"income_per_area\"\n",
    "QUANTITY_PER_AREA = \"quantity_per_area\"\n",
    "PRODUCTS_PER_AREA = \"products_per_area\"\n",
    "NUMBER_OF_TRANSACTIONS = \"number_of_transactions\"\n",
    "INCOME_GROWTH = \"income_growth\"\n",
    "QUANTITY_GROWTH = \"quantity_growth\"\n",
    "JV = \"jv\"\n",
    "IP_TO_SP = {\n",
    "    LOW:\"Low\",\n",
    "    MODERATE:\"Moderate\",\n",
    "    HIGH:\"High\"\n",
    "}\n",
    "\n",
    "SP_TO_IP = {value:key for key,value in IP_TO_SP.items()}\n",
    "def iprofile_to_sprofile(iprofile:int):\n",
    "    return IP_TO_SP[iprofile]\n",
    "def sprofile_to_iprofile(sprofile:str):\n",
    "    return SP_TO_IP[sprofile]\n",
    "\n",
    "\n",
    "FEATURE_OPTION_1 =(AREA,PRODUCT_DIVERSITY,CUSTOMER_DIVERSITY,INCOME_PER_AREA)\n",
    "FEATURE_OPTION_2 = (AREA,PRODUCT_DIVERSITY,CUSTOMER_DIVERSITY,INCOME_PER_AREA,INCOME_GROWTH,QUANTITY_GROWTH)\n",
    "FEATURES_USED = (AREA,PRODUCT_DIVERSITY,CUSTOMER_DIVERSITY)\n",
    "training_data['profile'] = training_data['profile'].map(sprofile_to_iprofile)\n",
    "# training_data.head()"
   ]
  },
  {
   "cell_type": "code",
   "execution_count": 8,
   "id": "85bf3e4b",
   "metadata": {
    "execution": {
     "iopub.execute_input": "2023-04-27T08:54:40.868439Z",
     "iopub.status.busy": "2023-04-27T08:54:40.868023Z",
     "iopub.status.idle": "2023-04-27T08:54:40.875346Z",
     "shell.execute_reply": "2023-04-27T08:54:40.874315Z"
    },
    "papermill": {
     "duration": 0.018981,
     "end_time": "2023-04-27T08:54:40.877517",
     "exception": false,
     "start_time": "2023-04-27T08:54:40.858536",
     "status": "completed"
    },
    "tags": []
   },
   "outputs": [],
   "source": [
    "low_data = training_data[training_data[PROFILE]==LOW]\n",
    "moderate_data = training_data[training_data[PROFILE]==MODERATE]\n",
    "high_data = training_data[training_data[PROFILE]==HIGH]"
   ]
  },
  {
   "cell_type": "markdown",
   "id": "e33174d3",
   "metadata": {
    "papermill": {
     "duration": 0.007442,
     "end_time": "2023-04-27T08:54:40.892725",
     "exception": false,
     "start_time": "2023-04-27T08:54:40.885283",
     "status": "completed"
    },
    "tags": []
   },
   "source": [
    "## Feature Vector Creation"
   ]
  },
  {
   "cell_type": "code",
   "execution_count": 9,
   "id": "60f1804a",
   "metadata": {
    "execution": {
     "iopub.execute_input": "2023-04-27T08:54:40.910477Z",
     "iopub.status.busy": "2023-04-27T08:54:40.909674Z",
     "iopub.status.idle": "2023-04-27T08:54:40.924021Z",
     "shell.execute_reply": "2023-04-27T08:54:40.922526Z"
    },
    "papermill": {
     "duration": 0.026367,
     "end_time": "2023-04-27T08:54:40.926730",
     "exception": false,
     "start_time": "2023-04-27T08:54:40.900363",
     "status": "completed"
    },
    "tags": []
   },
   "outputs": [
    {
     "data": {
      "text/plain": [
       "(100, 62)"
      ]
     },
     "execution_count": 9,
     "metadata": {},
     "output_type": "execute_result"
    }
   ],
   "source": [
    "def create_feature_vectors(df,features,prediction_name=None,normalization_parameters=None,normalize=True):\n",
    "    #returns feature vector array and predictions if prediction_name is given\n",
    "    df = df.copy() #creating a local copy\n",
    "    #calculating normalization paramteres if they are not provided\n",
    "    \n",
    "    if(normalization_parameters is None):\n",
    "        print(\"************************************\")\n",
    "        print(\"Caclulating normalizing paramters!!!\")\n",
    "        print(\"************************************\")\n",
    "        normalization_parameters = {feature:(df[feature].mean(),df[feature].std()) for feature in features}\n",
    "    \n",
    "    #normalizing according to the paramters\n",
    "    if(normalize):\n",
    "        for feature in features:\n",
    "            mean,std = normalization_parameters[feature]\n",
    "            df[feature] = (df[feature] - mean)/std\n",
    "        \n",
    "    feature_vectors = np.stack([df[feature].to_numpy() for feature in features],axis=1)\n",
    "#     feature_vectors = np.stack(df['jv'],axis=0)\n",
    "    if(prediction_name is None):\n",
    "        return feature_vectors,normalization_parameters,None\n",
    "    \n",
    "    return feature_vectors,normalization_parameters,df[prediction_name].to_numpy()   \n",
    "\n",
    "def get_jv_feature_vectors(df):\n",
    " \n",
    "    jv_feature_vectors = np.stack(df['jv'],axis=0)\n",
    "    return jv_feature_vectors\n",
    "# get_jv_feature_vectors(training_data).shap\n",
    "\n",
    "def get_tv_feature_vectors(df):\n",
    "    jv_feature_vectors = np.stack(df['tv'],axis=0)\n",
    "    return jv_feature_vectors\n",
    "get_tv_feature_vectors(training_data).shape"
   ]
  },
  {
   "cell_type": "code",
   "execution_count": 10,
   "id": "56e324c1",
   "metadata": {
    "execution": {
     "iopub.execute_input": "2023-04-27T08:54:40.944583Z",
     "iopub.status.busy": "2023-04-27T08:54:40.943834Z",
     "iopub.status.idle": "2023-04-27T08:54:40.954738Z",
     "shell.execute_reply": "2023-04-27T08:54:40.953205Z"
    },
    "papermill": {
     "duration": 0.022673,
     "end_time": "2023-04-27T08:54:40.957300",
     "exception": false,
     "start_time": "2023-04-27T08:54:40.934627",
     "status": "completed"
    },
    "tags": []
   },
   "outputs": [
    {
     "name": "stdout",
     "output_type": "stream",
     "text": [
      "************************************\n",
      "Caclulating normalizing paramters!!!\n",
      "************************************\n"
     ]
    }
   ],
   "source": [
    "# data = training_data\n",
    "# # data= training_data.head()\n",
    "_,_,ground_truth = create_feature_vectors(df=training_data,features=FEATURES_USED,prediction_name=PROFILE,normalize=True)\n",
    "# feature_vectors.shape"
   ]
  },
  {
   "cell_type": "markdown",
   "id": "a9d03d60",
   "metadata": {
    "papermill": {
     "duration": 0.00746,
     "end_time": "2023-04-27T08:54:40.972715",
     "exception": false,
     "start_time": "2023-04-27T08:54:40.965255",
     "status": "completed"
    },
    "tags": []
   },
   "source": [
    "# Functions for evaluvations"
   ]
  },
  {
   "cell_type": "code",
   "execution_count": 11,
   "id": "1be948df",
   "metadata": {
    "execution": {
     "iopub.execute_input": "2023-04-27T08:54:40.990171Z",
     "iopub.status.busy": "2023-04-27T08:54:40.989731Z",
     "iopub.status.idle": "2023-04-27T08:54:40.997600Z",
     "shell.execute_reply": "2023-04-27T08:54:40.996217Z"
    },
    "papermill": {
     "duration": 0.019851,
     "end_time": "2023-04-27T08:54:41.000239",
     "exception": false,
     "start_time": "2023-04-27T08:54:40.980388",
     "status": "completed"
    },
    "tags": []
   },
   "outputs": [],
   "source": [
    "def create_confusion_matrix(ground_truth,predictions,features):\n",
    "    n_features = len(features)\n",
    "    confusion_matrix = np.zeros((n_features,n_features))\n",
    "    for index1,f1 in enumerate(features):\n",
    "        for index2,f2 in enumerate(features):\n",
    "            confusion_matrix[index1,index2] = np.sum((ground_truth == f1) & (predictions == f2))\n",
    "    assert(len(predictions) == len(ground_truth) and len(predictions) == np.sum(confusion_matrix))\n",
    "    return confusion_matrix/np.sum(confusion_matrix)\n",
    "    "
   ]
  },
  {
   "cell_type": "markdown",
   "id": "fdd94fc7",
   "metadata": {
    "papermill": {
     "duration": 0.007589,
     "end_time": "2023-04-27T08:54:41.016602",
     "exception": false,
     "start_time": "2023-04-27T08:54:41.009013",
     "status": "completed"
    },
    "tags": []
   },
   "source": [
    "# Trying Out Basic Classification Methods"
   ]
  },
  {
   "cell_type": "code",
   "execution_count": 12,
   "id": "780a9a29",
   "metadata": {
    "execution": {
     "iopub.execute_input": "2023-04-27T08:54:41.035008Z",
     "iopub.status.busy": "2023-04-27T08:54:41.034567Z",
     "iopub.status.idle": "2023-04-27T08:54:41.045793Z",
     "shell.execute_reply": "2023-04-27T08:54:41.044732Z"
    },
    "papermill": {
     "duration": 0.023553,
     "end_time": "2023-04-27T08:54:41.048070",
     "exception": false,
     "start_time": "2023-04-27T08:54:41.024517",
     "status": "completed"
    },
    "tags": []
   },
   "outputs": [],
   "source": [
    "from sklearn.model_selection import train_test_split\n",
    "def evaluvate_algorithm_train_test(classifire,training_features,ground_truth,test_percentage=0.3):\n",
    "    feature_train,feature_test,gt_train,gt_test = train_test_split(training_features,\n",
    "                                                                    ground_truth,\n",
    "                                                                    test_size=test_percentage)\n",
    "    classifire.fit(feature_train,gt_train)\n",
    "    pd_train = classifire.predict(feature_train)\n",
    "    print(f\"***************training data*****************\")\n",
    "    confusion_matrix = create_confusion_matrix(gt_train,pd_train,[0,1,2])\n",
    "    score = f1_score(y_true=gt_train,y_pred=pd_train,labels=PREDICTION_CLASSES,average='macro')\n",
    "    print(confusion_matrix)\n",
    "    print(score)\n",
    "    print(f\"*********************************************\")\n",
    "    \n",
    "    pd_test = classifire.predict(feature_test)\n",
    "    print(f\"***************testing data*****************\")\n",
    "    confusion_matrix = create_confusion_matrix(gt_test,pd_test,[0,1,2])\n",
    "    score = f1_score(y_true=gt_test,y_pred=pd_test,labels=PREDICTION_CLASSES,average='macro')\n",
    "    print(confusion_matrix)\n",
    "    print(score)\n",
    "    print(f\"*********************************************\")\n",
    "    return confusion_matrix,score,classifire\n",
    "    \n",
    "def evaluvate_algorithm_total(classifire,feature_train,gt_train):\n",
    "    classifire.fit(feature_train,gt_train)\n",
    "    pd_train = classifire.predict(feature_train)\n",
    "    print(f\"***************Total data*****************\")\n",
    "    confusion_matrix = create_confusion_matrix(gt_train,pd_train,[0,1,2])\n",
    "    score = f1_score(y_true=gt_train,y_pred=pd_train,labels=PREDICTION_CLASSES,average='macro')\n",
    "    print(confusion_matrix)\n",
    "    print(score)\n",
    "    print(f\"*********************************************\")\n",
    "    return confusion_matrix,score,classifire\n",
    "\n",
    "    \n",
    "    "
   ]
  },
  {
   "cell_type": "markdown",
   "id": "292b9892",
   "metadata": {
    "papermill": {
     "duration": 0.0077,
     "end_time": "2023-04-27T08:54:41.065834",
     "exception": false,
     "start_time": "2023-04-27T08:54:41.058134",
     "status": "completed"
    },
    "tags": []
   },
   "source": [
    "# Dimensionality Reduction"
   ]
  },
  {
   "cell_type": "code",
   "execution_count": 13,
   "id": "51fe393f",
   "metadata": {
    "execution": {
     "iopub.execute_input": "2023-04-27T08:54:41.084164Z",
     "iopub.status.busy": "2023-04-27T08:54:41.082902Z",
     "iopub.status.idle": "2023-04-27T08:54:41.486998Z",
     "shell.execute_reply": "2023-04-27T08:54:41.485716Z"
    },
    "papermill": {
     "duration": 0.415929,
     "end_time": "2023-04-27T08:54:41.489666",
     "exception": false,
     "start_time": "2023-04-27T08:54:41.073737",
     "status": "completed"
    },
    "tags": []
   },
   "outputs": [
    {
     "data": {
      "image/png": "[encoded data removed]",
      "text/plain": [
       "<Figure size 640x480 with 1 Axes>"
      ]
     },
     "metadata": {},
     "output_type": "display_data"
    }
   ],
   "source": [
    "from sklearn.discriminant_analysis import LinearDiscriminantAnalysis\n",
    "lda_j = LinearDiscriminantAnalysis()\n",
    "jvf = get_jv_feature_vectors(training_data)\n",
    "lda_j.fit(jvf,ground_truth)\n",
    "rjvf = lda_j.transform(jvf)\n",
    "plt.scatter(rjvf[:,0],rjvf[:,1])\n",
    "for dd in (low_data,moderate_data,high_data):\n",
    "    ljvf = get_jv_feature_vectors(dd)\n",
    "    rljvf = lda_j.transform(ljvf)\n",
    "    plt.scatter(rljvf[:,0],rljvf[:,1])"
   ]
  },
  {
   "cell_type": "code",
   "execution_count": 14,
   "id": "4801b098",
   "metadata": {
    "execution": {
     "iopub.execute_input": "2023-04-27T08:54:41.509354Z",
     "iopub.status.busy": "2023-04-27T08:54:41.507966Z",
     "iopub.status.idle": "2023-04-27T08:54:41.836255Z",
     "shell.execute_reply": "2023-04-27T08:54:41.834942Z"
    },
    "papermill": {
     "duration": 0.340644,
     "end_time": "2023-04-27T08:54:41.838984",
     "exception": false,
     "start_time": "2023-04-27T08:54:41.498340",
     "status": "completed"
    },
    "tags": []
   },
   "outputs": [
    {
     "data": {
      "image/png": "[encoded data removed]",
      "text/plain": [
       "<Figure size 640x480 with 1 Axes>"
      ]
     },
     "metadata": {},
     "output_type": "display_data"
    }
   ],
   "source": [
    "from sklearn.discriminant_analysis import LinearDiscriminantAnalysis\n",
    "lda_t = LinearDiscriminantAnalysis()\n",
    "tvf = get_tv_feature_vectors(training_data)\n",
    "lda_t.fit(tvf,ground_truth)\n",
    "rtvf = lda_t.transform(tvf)\n",
    "plt.scatter(rtvf[:,0],rtvf[:,1])\n",
    "for dd in (low_data,moderate_data,high_data):\n",
    "    ltvf = get_tv_feature_vectors(dd)\n",
    "    rltvf = lda_t.transform(ltvf)\n",
    "    plt.scatter(rltvf[:,0],rltvf[:,1])\n"
   ]
  },
  {
   "cell_type": "code",
   "execution_count": 15,
   "id": "58224234",
   "metadata": {
    "execution": {
     "iopub.execute_input": "2023-04-27T08:54:41.859000Z",
     "iopub.status.busy": "2023-04-27T08:54:41.857809Z",
     "iopub.status.idle": "2023-04-27T08:54:41.863688Z",
     "shell.execute_reply": "2023-04-27T08:54:41.862838Z"
    },
    "papermill": {
     "duration": 0.018315,
     "end_time": "2023-04-27T08:54:41.865961",
     "exception": false,
     "start_time": "2023-04-27T08:54:41.847646",
     "status": "completed"
    },
    "tags": []
   },
   "outputs": [],
   "source": [
    "def get_final_features(*features):\n",
    "    return np.concatenate(features,axis=1)\n",
    "\n",
    "# final_features = get_final_features(rjvf,rtvf)"
   ]
  },
  {
   "cell_type": "code",
   "execution_count": 16,
   "id": "976217f2",
   "metadata": {
    "execution": {
     "iopub.execute_input": "2023-04-27T08:54:41.885489Z",
     "iopub.status.busy": "2023-04-27T08:54:41.884764Z",
     "iopub.status.idle": "2023-04-27T08:54:41.890564Z",
     "shell.execute_reply": "2023-04-27T08:54:41.889711Z"
    },
    "papermill": {
     "duration": 0.018243,
     "end_time": "2023-04-27T08:54:41.892840",
     "exception": false,
     "start_time": "2023-04-27T08:54:41.874597",
     "status": "completed"
    },
    "tags": []
   },
   "outputs": [],
   "source": [
    "\n",
    "def feature_maker(data):\n",
    "    rjvf = lda_j.transform(get_jv_feature_vectors(df=data))\n",
    "    rtvf = lda_t.transform(get_tv_feature_vectors(df=data))\n",
    "    \n",
    "\n",
    "    return get_final_features(rjvf,rtvf)\n",
    "    "
   ]
  },
  {
   "cell_type": "markdown",
   "id": "df4c301f",
   "metadata": {
    "papermill": {
     "duration": 0.008273,
     "end_time": "2023-04-27T08:54:41.909755",
     "exception": false,
     "start_time": "2023-04-27T08:54:41.901482",
     "status": "completed"
    },
    "tags": []
   },
   "source": [
    "# Trainging Algorithms"
   ]
  },
  {
   "cell_type": "code",
   "execution_count": 17,
   "id": "17a5d123",
   "metadata": {
    "execution": {
     "iopub.execute_input": "2023-04-27T08:54:41.929031Z",
     "iopub.status.busy": "2023-04-27T08:54:41.928355Z",
     "iopub.status.idle": "2023-04-27T08:54:41.934207Z",
     "shell.execute_reply": "2023-04-27T08:54:41.933426Z"
    },
    "papermill": {
     "duration": 0.018554,
     "end_time": "2023-04-27T08:54:41.936809",
     "exception": false,
     "start_time": "2023-04-27T08:54:41.918255",
     "status": "completed"
    },
    "tags": []
   },
   "outputs": [],
   "source": [
    "final_training_features = feature_maker(training_data)"
   ]
  },
  {
   "cell_type": "code",
   "execution_count": 18,
   "id": "c1ac891c",
   "metadata": {
    "execution": {
     "iopub.execute_input": "2023-04-27T08:54:41.956364Z",
     "iopub.status.busy": "2023-04-27T08:54:41.955698Z",
     "iopub.status.idle": "2023-04-27T08:54:41.974086Z",
     "shell.execute_reply": "2023-04-27T08:54:41.972498Z"
    },
    "papermill": {
     "duration": 0.031062,
     "end_time": "2023-04-27T08:54:41.976519",
     "exception": false,
     "start_time": "2023-04-27T08:54:41.945457",
     "status": "completed"
    },
    "tags": []
   },
   "outputs": [
    {
     "name": "stdout",
     "output_type": "stream",
     "text": [
      "***************Total data*****************\n",
      "[[0.36 0.   0.  ]\n",
      " [0.02 0.31 0.  ]\n",
      " [0.01 0.02 0.28]]\n",
      "0.9495154939222736\n",
      "*********************************************\n",
      "***************training data*****************\n",
      "[[0.38571429 0.         0.        ]\n",
      " [0.         0.3        0.        ]\n",
      " [0.01428571 0.02857143 0.27142857]]\n",
      "0.9543976348854398\n",
      "*********************************************\n",
      "***************testing data*****************\n",
      "[[0.3        0.         0.        ]\n",
      " [0.06666667 0.33333333 0.        ]\n",
      " [0.         0.         0.3       ]]\n",
      "0.9363636363636364\n",
      "*********************************************\n"
     ]
    }
   ],
   "source": [
    "ss_linear = svm.SVC(kernel=\"linear\")\n",
    "evaluvate_algorithm_total(ss_linear,final_training_features,ground_truth)\n",
    "_,_,ss_linear = evaluvate_algorithm_train_test(ss_linear,final_training_features,ground_truth)"
   ]
  },
  {
   "cell_type": "code",
   "execution_count": 19,
   "id": "fbfcf6a8",
   "metadata": {
    "execution": {
     "iopub.execute_input": "2023-04-27T08:54:41.996570Z",
     "iopub.status.busy": "2023-04-27T08:54:41.996097Z",
     "iopub.status.idle": "2023-04-27T08:54:42.010392Z",
     "shell.execute_reply": "2023-04-27T08:54:42.008488Z"
    },
    "papermill": {
     "duration": 0.027433,
     "end_time": "2023-04-27T08:54:42.012868",
     "exception": false,
     "start_time": "2023-04-27T08:54:41.985435",
     "status": "completed"
    },
    "tags": []
   },
   "outputs": [
    {
     "name": "stdout",
     "output_type": "stream",
     "text": [
      "***************Total data*****************\n",
      "[[0.36 0.   0.  ]\n",
      " [0.02 0.31 0.  ]\n",
      " [0.01 0.02 0.28]]\n",
      "0.9495154939222736\n",
      "*********************************************\n",
      "***************training data*****************\n",
      "[[0.35714286 0.         0.        ]\n",
      " [0.02857143 0.34285714 0.        ]\n",
      " [0.01428571 0.01428571 0.24285714]]\n",
      "0.9430057138159246\n",
      "*********************************************\n",
      "***************testing data*****************\n",
      "[[0.36666667 0.         0.        ]\n",
      " [0.         0.23333333 0.        ]\n",
      " [0.         0.03333333 0.36666667]]\n",
      "0.9632850241545894\n",
      "*********************************************\n"
     ]
    }
   ],
   "source": [
    "ss = svm.SVC()\n",
    "evaluvate_algorithm_total(ss_linear,final_training_features,ground_truth)\n",
    "_,_,ss = evaluvate_algorithm_train_test(ss_linear,final_training_features,ground_truth)"
   ]
  },
  {
   "cell_type": "code",
   "execution_count": 20,
   "id": "0ab96f3b",
   "metadata": {
    "execution": {
     "iopub.execute_input": "2023-04-27T08:54:42.034166Z",
     "iopub.status.busy": "2023-04-27T08:54:42.033450Z",
     "iopub.status.idle": "2023-04-27T08:54:45.448771Z",
     "shell.execute_reply": "2023-04-27T08:54:45.447032Z"
    },
    "papermill": {
     "duration": 3.431876,
     "end_time": "2023-04-27T08:54:45.453812",
     "exception": false,
     "start_time": "2023-04-27T08:54:42.021936",
     "status": "completed"
    },
    "tags": []
   },
   "outputs": [
    {
     "name": "stdout",
     "output_type": "stream",
     "text": [
      "***************Total data*****************\n",
      "[[0.36 0.   0.  ]\n",
      " [0.   0.33 0.  ]\n",
      " [0.   0.   0.31]]\n",
      "1.0\n",
      "*********************************************\n",
      "***************training data*****************\n",
      "[[0.41428571 0.         0.        ]\n",
      " [0.         0.28571429 0.        ]\n",
      " [0.         0.         0.3       ]]\n",
      "1.0\n",
      "*********************************************\n",
      "***************testing data*****************\n",
      "[[0.23333333 0.         0.        ]\n",
      " [0.06666667 0.36666667 0.        ]\n",
      " [0.         0.03333333 0.3       ]]\n",
      "0.9007894736842106\n",
      "*********************************************\n"
     ]
    }
   ],
   "source": [
    "nn = MLPClassifier(hidden_layer_sizes=(100,100),alpha=1, max_iter=1000)\n",
    "evaluvate_algorithm_total(nn,final_training_features,ground_truth)\n",
    "_,_,nn = evaluvate_algorithm_train_test(nn,final_training_features,ground_truth)"
   ]
  },
  {
   "cell_type": "code",
   "execution_count": 21,
   "id": "d0ec5ba9",
   "metadata": {
    "execution": {
     "iopub.execute_input": "2023-04-27T08:54:45.503455Z",
     "iopub.status.busy": "2023-04-27T08:54:45.502375Z",
     "iopub.status.idle": "2023-04-27T08:54:45.854994Z",
     "shell.execute_reply": "2023-04-27T08:54:45.853664Z"
    },
    "papermill": {
     "duration": 0.380396,
     "end_time": "2023-04-27T08:54:45.857740",
     "exception": false,
     "start_time": "2023-04-27T08:54:45.477344",
     "status": "completed"
    },
    "tags": []
   },
   "outputs": [
    {
     "name": "stdout",
     "output_type": "stream",
     "text": [
      "***************Total data*****************\n",
      "[[0.36 0.   0.  ]\n",
      " [0.   0.33 0.  ]\n",
      " [0.   0.   0.31]]\n",
      "1.0\n",
      "*********************************************\n",
      "***************training data*****************\n",
      "[[0.4        0.         0.        ]\n",
      " [0.         0.28571429 0.        ]\n",
      " [0.         0.         0.31428571]]\n",
      "1.0\n",
      "*********************************************\n",
      "***************testing data*****************\n",
      "[[0.26666667 0.         0.        ]\n",
      " [0.1        0.3        0.03333333]\n",
      " [0.03333333 0.         0.26666667]]\n",
      "0.8356902356902357\n",
      "*********************************************\n"
     ]
    }
   ],
   "source": [
    "forest = RandomForestClassifier()\n",
    "evaluvate_algorithm_total(forest,final_training_features,ground_truth)\n",
    "_,_,forest = evaluvate_algorithm_train_test(forest,final_training_features,ground_truth)"
   ]
  },
  {
   "cell_type": "code",
   "execution_count": 22,
   "id": "9a23efcb",
   "metadata": {
    "execution": {
     "iopub.execute_input": "2023-04-27T08:54:45.878131Z",
     "iopub.status.busy": "2023-04-27T08:54:45.877420Z",
     "iopub.status.idle": "2023-04-27T08:54:45.897546Z",
     "shell.execute_reply": "2023-04-27T08:54:45.896087Z"
    },
    "papermill": {
     "duration": 0.033653,
     "end_time": "2023-04-27T08:54:45.900409",
     "exception": false,
     "start_time": "2023-04-27T08:54:45.866756",
     "status": "completed"
    },
    "tags": []
   },
   "outputs": [
    {
     "name": "stdout",
     "output_type": "stream",
     "text": [
      "***************training data*****************\n",
      "[[0.34285714 0.         0.        ]\n",
      " [0.01428571 0.27142857 0.        ]\n",
      " [0.01428571 0.01428571 0.34285714]]\n",
      "0.9566666666666667\n",
      "*********************************************\n",
      "***************testing data*****************\n",
      "[[0.3        0.06666667 0.03333333]\n",
      " [0.         0.43333333 0.        ]\n",
      " [0.         0.03333333 0.13333333]]\n",
      "0.8512315270935962\n",
      "*********************************************\n",
      "***************Total data*****************\n",
      "[[0.35 0.   0.01]\n",
      " [0.01 0.32 0.  ]\n",
      " [0.01 0.02 0.28]]\n",
      "0.9491537745064632\n",
      "*********************************************\n"
     ]
    }
   ],
   "source": [
    "knn = KNeighborsClassifier(n_neighbors=3)\n",
    "evaluvate_algorithm_train_test(knn,final_training_features,ground_truth)\n",
    "cm,score,knn = evaluvate_algorithm_total(knn,final_training_features,ground_truth)"
   ]
  },
  {
   "cell_type": "code",
   "execution_count": 23,
   "id": "b036e739",
   "metadata": {
    "execution": {
     "iopub.execute_input": "2023-04-27T08:54:45.922650Z",
     "iopub.status.busy": "2023-04-27T08:54:45.921303Z",
     "iopub.status.idle": "2023-04-27T08:54:45.975183Z",
     "shell.execute_reply": "2023-04-27T08:54:45.973853Z"
    },
    "papermill": {
     "duration": 0.068066,
     "end_time": "2023-04-27T08:54:45.978019",
     "exception": false,
     "start_time": "2023-04-27T08:54:45.909953",
     "status": "completed"
    },
    "tags": []
   },
   "outputs": [
    {
     "data": {
      "text/html": [
       "<div>\n",
       "<style scoped>\n",
       "    .dataframe tbody tr th:only-of-type {\n",
       "        vertical-align: middle;\n",
       "    }\n",
       "\n",
       "    .dataframe tbody tr th {\n",
       "        vertical-align: top;\n",
       "    }\n",
       "\n",
       "    .dataframe thead th {\n",
       "        text-align: right;\n",
       "    }\n",
       "</style>\n",
       "<table border=\"1\" class=\"dataframe\">\n",
       "  <thead>\n",
       "    <tr style=\"text-align: right;\">\n",
       "      <th></th>\n",
       "      <th>shop_id</th>\n",
       "      <th>svm</th>\n",
       "      <th>nnl</th>\n",
       "      <th>knn</th>\n",
       "      <th>ss_linear</th>\n",
       "    </tr>\n",
       "  </thead>\n",
       "  <tbody>\n",
       "    <tr>\n",
       "      <th>0</th>\n",
       "      <td>SHOP046</td>\n",
       "      <td>High</td>\n",
       "      <td>High</td>\n",
       "      <td>High</td>\n",
       "      <td>High</td>\n",
       "    </tr>\n",
       "    <tr>\n",
       "      <th>1</th>\n",
       "      <td>SHOP024</td>\n",
       "      <td>Moderate</td>\n",
       "      <td>Moderate</td>\n",
       "      <td>Moderate</td>\n",
       "      <td>Moderate</td>\n",
       "    </tr>\n",
       "    <tr>\n",
       "      <th>2</th>\n",
       "      <td>SHOP023</td>\n",
       "      <td>Low</td>\n",
       "      <td>Low</td>\n",
       "      <td>Low</td>\n",
       "      <td>Low</td>\n",
       "    </tr>\n",
       "    <tr>\n",
       "      <th>3</th>\n",
       "      <td>SHOP097</td>\n",
       "      <td>Moderate</td>\n",
       "      <td>Moderate</td>\n",
       "      <td>Moderate</td>\n",
       "      <td>Moderate</td>\n",
       "    </tr>\n",
       "    <tr>\n",
       "      <th>4</th>\n",
       "      <td>SHOP044</td>\n",
       "      <td>Moderate</td>\n",
       "      <td>Moderate</td>\n",
       "      <td>Moderate</td>\n",
       "      <td>Moderate</td>\n",
       "    </tr>\n",
       "    <tr>\n",
       "      <th>5</th>\n",
       "      <td>SHOP030</td>\n",
       "      <td>Moderate</td>\n",
       "      <td>Moderate</td>\n",
       "      <td>Low</td>\n",
       "      <td>Moderate</td>\n",
       "    </tr>\n",
       "    <tr>\n",
       "      <th>6</th>\n",
       "      <td>SHOP038</td>\n",
       "      <td>Moderate</td>\n",
       "      <td>Moderate</td>\n",
       "      <td>Moderate</td>\n",
       "      <td>Moderate</td>\n",
       "    </tr>\n",
       "    <tr>\n",
       "      <th>7</th>\n",
       "      <td>SHOP029</td>\n",
       "      <td>Low</td>\n",
       "      <td>Low</td>\n",
       "      <td>Low</td>\n",
       "      <td>Low</td>\n",
       "    </tr>\n",
       "    <tr>\n",
       "      <th>8</th>\n",
       "      <td>SHOP096</td>\n",
       "      <td>Low</td>\n",
       "      <td>Low</td>\n",
       "      <td>Low</td>\n",
       "      <td>Low</td>\n",
       "    </tr>\n",
       "    <tr>\n",
       "      <th>9</th>\n",
       "      <td>SHOP092</td>\n",
       "      <td>Moderate</td>\n",
       "      <td>Moderate</td>\n",
       "      <td>Moderate</td>\n",
       "      <td>Moderate</td>\n",
       "    </tr>\n",
       "    <tr>\n",
       "      <th>10</th>\n",
       "      <td>SHOP081</td>\n",
       "      <td>Moderate</td>\n",
       "      <td>Moderate</td>\n",
       "      <td>Moderate</td>\n",
       "      <td>Moderate</td>\n",
       "    </tr>\n",
       "    <tr>\n",
       "      <th>11</th>\n",
       "      <td>SHOP076</td>\n",
       "      <td>Low</td>\n",
       "      <td>Low</td>\n",
       "      <td>Low</td>\n",
       "      <td>Low</td>\n",
       "    </tr>\n",
       "    <tr>\n",
       "      <th>12</th>\n",
       "      <td>SHOP080</td>\n",
       "      <td>Low</td>\n",
       "      <td>Low</td>\n",
       "      <td>Low</td>\n",
       "      <td>Low</td>\n",
       "    </tr>\n",
       "    <tr>\n",
       "      <th>13</th>\n",
       "      <td>SHOP074</td>\n",
       "      <td>Low</td>\n",
       "      <td>Low</td>\n",
       "      <td>Low</td>\n",
       "      <td>Low</td>\n",
       "    </tr>\n",
       "    <tr>\n",
       "      <th>14</th>\n",
       "      <td>SHOP107</td>\n",
       "      <td>Moderate</td>\n",
       "      <td>Moderate</td>\n",
       "      <td>Moderate</td>\n",
       "      <td>Moderate</td>\n",
       "    </tr>\n",
       "    <tr>\n",
       "      <th>15</th>\n",
       "      <td>SHOP108</td>\n",
       "      <td>Moderate</td>\n",
       "      <td>Moderate</td>\n",
       "      <td>Moderate</td>\n",
       "      <td>Moderate</td>\n",
       "    </tr>\n",
       "    <tr>\n",
       "      <th>16</th>\n",
       "      <td>SHOP019</td>\n",
       "      <td>Moderate</td>\n",
       "      <td>Moderate</td>\n",
       "      <td>Moderate</td>\n",
       "      <td>Moderate</td>\n",
       "    </tr>\n",
       "    <tr>\n",
       "      <th>17</th>\n",
       "      <td>SHOP002</td>\n",
       "      <td>Low</td>\n",
       "      <td>Low</td>\n",
       "      <td>Low</td>\n",
       "      <td>Low</td>\n",
       "    </tr>\n",
       "    <tr>\n",
       "      <th>18</th>\n",
       "      <td>SHOP114</td>\n",
       "      <td>Low</td>\n",
       "      <td>Low</td>\n",
       "      <td>Low</td>\n",
       "      <td>Low</td>\n",
       "    </tr>\n",
       "    <tr>\n",
       "      <th>19</th>\n",
       "      <td>SHOP087</td>\n",
       "      <td>Moderate</td>\n",
       "      <td>Moderate</td>\n",
       "      <td>Moderate</td>\n",
       "      <td>Moderate</td>\n",
       "    </tr>\n",
       "    <tr>\n",
       "      <th>20</th>\n",
       "      <td>SHOP050</td>\n",
       "      <td>Low</td>\n",
       "      <td>Low</td>\n",
       "      <td>Low</td>\n",
       "      <td>Low</td>\n",
       "    </tr>\n",
       "    <tr>\n",
       "      <th>21</th>\n",
       "      <td>SHOP061</td>\n",
       "      <td>Low</td>\n",
       "      <td>Low</td>\n",
       "      <td>Low</td>\n",
       "      <td>Low</td>\n",
       "    </tr>\n",
       "    <tr>\n",
       "      <th>22</th>\n",
       "      <td>SHOP056</td>\n",
       "      <td>Moderate</td>\n",
       "      <td>Moderate</td>\n",
       "      <td>Moderate</td>\n",
       "      <td>Moderate</td>\n",
       "    </tr>\n",
       "    <tr>\n",
       "      <th>23</th>\n",
       "      <td>SHOP070</td>\n",
       "      <td>Low</td>\n",
       "      <td>Low</td>\n",
       "      <td>Low</td>\n",
       "      <td>Low</td>\n",
       "    </tr>\n",
       "  </tbody>\n",
       "</table>\n",
       "</div>"
      ],
      "text/plain": [
       "    shop_id       svm       nnl       knn ss_linear\n",
       "0   SHOP046      High      High      High      High\n",
       "1   SHOP024  Moderate  Moderate  Moderate  Moderate\n",
       "2   SHOP023       Low       Low       Low       Low\n",
       "3   SHOP097  Moderate  Moderate  Moderate  Moderate\n",
       "4   SHOP044  Moderate  Moderate  Moderate  Moderate\n",
       "5   SHOP030  Moderate  Moderate       Low  Moderate\n",
       "6   SHOP038  Moderate  Moderate  Moderate  Moderate\n",
       "7   SHOP029       Low       Low       Low       Low\n",
       "8   SHOP096       Low       Low       Low       Low\n",
       "9   SHOP092  Moderate  Moderate  Moderate  Moderate\n",
       "10  SHOP081  Moderate  Moderate  Moderate  Moderate\n",
       "11  SHOP076       Low       Low       Low       Low\n",
       "12  SHOP080       Low       Low       Low       Low\n",
       "13  SHOP074       Low       Low       Low       Low\n",
       "14  SHOP107  Moderate  Moderate  Moderate  Moderate\n",
       "15  SHOP108  Moderate  Moderate  Moderate  Moderate\n",
       "16  SHOP019  Moderate  Moderate  Moderate  Moderate\n",
       "17  SHOP002       Low       Low       Low       Low\n",
       "18  SHOP114       Low       Low       Low       Low\n",
       "19  SHOP087  Moderate  Moderate  Moderate  Moderate\n",
       "20  SHOP050       Low       Low       Low       Low\n",
       "21  SHOP061       Low       Low       Low       Low\n",
       "22  SHOP056  Moderate  Moderate  Moderate  Moderate\n",
       "23  SHOP070       Low       Low       Low       Low"
      ]
     },
     "execution_count": 23,
     "metadata": {},
     "output_type": "execute_result"
    }
   ],
   "source": [
    "def predict(testing_data,algo,testing,test_feature_vectors):\n",
    "    data = testing_data.copy()\n",
    "    # data= training_data.head()\n",
    "#     test_feature_vectors = lda.transform(get_jv_feature_vectors(df=data))\n",
    "    profile_predictions =algo.predict(test_feature_vectors)\n",
    "    copy_testing = testing.copy()\n",
    "    copy_testing['shop_profile'] = list(map(iprofile_to_sprofile,profile_predictions,))\n",
    "#     print(list(data['shop_id']),list(copy_testing['shop_id']))\n",
    "    assert(list(data['shop_id']) == list(copy_testing['shop_id']))\n",
    "#     data['profile']=copy_testing['shop_profile'].rename(index=lambda x : x+100)\n",
    "\n",
    "    return copy_testing.copy()\n",
    "\n",
    "# print(testing_data)\n",
    "\n",
    "# test_rjvf = lda_j.transform(get_jv_feature_vectors(df=testing_data))\n",
    "# test_rtvf = lda_t.transform(get_tv_feature_vectors(df=testing_data))\n",
    "\n",
    "# test_feature_vectors = get_final_features(test_rjvf,test_rtvf)\n",
    "\n",
    "test_feature_vectors = feature_maker(testing_data)\n",
    "\n",
    "ss_predictions = predict(testing_data,ss,testing,test_feature_vectors)\n",
    "ss_linear_predictions = predict(testing_data,ss_linear,testing,test_feature_vectors)\n",
    "nn_predictions = predict(testing_data,nn,testing,test_feature_vectors)\n",
    "knn_predictions = predict(testing_data,knn,testing,test_feature_vectors)\n",
    "forest_predictions = predict(testing_data,forest,testing,test_feature_vectors)\n",
    "# best_svm_predictions = predict(testing_data,best_svm,testing)\n",
    "\n",
    "\n",
    "evaluvation_table = testing.copy().drop(\"shop_profile\",axis=1)\n",
    "\n",
    "evaluvation_table[\"svm\"]=ss_predictions[\"shop_profile\"]\n",
    "evaluvation_table[\"nnl\"]=nn_predictions[\"shop_profile\"]\n",
    "evaluvation_table[\"knn\"]=knn_predictions[\"shop_profile\"]\n",
    "# evaluvation_table[\"forest\"]=forest_predictions[\"shop_profile\"]\n",
    "evaluvation_table[\"ss_linear\"]=ss_linear_predictions[\"shop_profile\"]\n",
    "# evaluvation_table[\"best_svm\"]=best_svm_predictions[\"shop_profile\"]\n",
    "\n",
    "evaluvation_table"
   ]
  },
  {
   "cell_type": "code",
   "execution_count": 24,
   "id": "bd230e23",
   "metadata": {
    "execution": {
     "iopub.execute_input": "2023-04-27T08:54:46.000643Z",
     "iopub.status.busy": "2023-04-27T08:54:45.999186Z",
     "iopub.status.idle": "2023-04-27T08:54:46.007868Z",
     "shell.execute_reply": "2023-04-27T08:54:46.006665Z"
    },
    "papermill": {
     "duration": 0.022574,
     "end_time": "2023-04-27T08:54:46.010584",
     "exception": false,
     "start_time": "2023-04-27T08:54:45.988010",
     "status": "completed"
    },
    "tags": []
   },
   "outputs": [],
   "source": [
    "ss_predictions.to_csv(\"/kaggle/working/svm_predictions_juice.csv\",index=False)\n",
    "nn_predictions.to_csv(\"/kaggle/working/nn_predictions_juice.csv\",index=False)"
   ]
  }
 ],
 "metadata": {
  "kernelspec": {
   "display_name": "Python 3",
   "language": "python",
   "name": "python3"
  },
  "language_info": {
   "codemirror_mode": {
    "name": "ipython",
    "version": 3
   },
   "file_extension": ".py",
   "mimetype": "text/x-python",
   "name": "python",
   "nbconvert_exporter": "python",
   "pygments_lexer": "ipython3",
   "version": "3.7.12"
  },
  "papermill": {
   "default_parameters": {},
   "duration": 58.615799,
   "end_time": "2023-04-27T08:54:46.844340",
   "environment_variables": {},
   "exception": null,
   "input_path": "__notebook__.ipynb",
   "output_path": "__notebook__.ipynb",
   "parameters": {},
   "start_time": "2023-04-27T08:53:48.228541",
   "version": "2.4.0"
  }
 },
 "nbformat": 4,
 "nbformat_minor": 5
}
