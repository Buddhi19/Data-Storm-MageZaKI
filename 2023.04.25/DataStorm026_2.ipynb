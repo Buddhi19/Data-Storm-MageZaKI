{
 "cells": [
  {
   "cell_type": "code",
   "execution_count": 1,
   "id": "acfc2bf5",
   "metadata": {
    "_cell_guid": "b1076dfc-b9ad-4769-8c92-a6c4dae69d19",
    "_uuid": "8f2839f25d086af736a60e9eeb907d3b93b6e0e5",
    "execution": {
     "iopub.execute_input": "2023-04-25T17:14:44.240028Z",
     "iopub.status.busy": "2023-04-25T17:14:44.239495Z",
     "iopub.status.idle": "2023-04-25T17:14:45.331110Z",
     "shell.execute_reply": "2023-04-25T17:14:45.330007Z"
    },
    "papermill": {
     "duration": 1.103815,
     "end_time": "2023-04-25T17:14:45.333933",
     "exception": false,
     "start_time": "2023-04-25T17:14:44.230118",
     "status": "completed"
    },
    "tags": []
   },
   "outputs": [],
   "source": [
    "\n",
    "import numpy as np # linear algebra\n",
    "import pandas as pd # data processing, CSV file I/O (e.g. pd.read_csv)\n",
    "import matplotlib.pyplot as plt\n",
    "from sklearn import svm\n",
    "from sklearn.metrics import f1_score"
   ]
  },
  {
   "cell_type": "markdown",
   "id": "75f31acb",
   "metadata": {
    "papermill": {
     "duration": 0.006036,
     "end_time": "2023-04-25T17:14:45.346267",
     "exception": false,
     "start_time": "2023-04-25T17:14:45.340231",
     "status": "completed"
    },
    "tags": []
   },
   "source": [
    "# Loading the Data"
   ]
  },
  {
   "cell_type": "code",
   "execution_count": 2,
   "id": "cbedb7e8",
   "metadata": {
    "execution": {
     "iopub.execute_input": "2023-04-25T17:14:45.360506Z",
     "iopub.status.busy": "2023-04-25T17:14:45.360119Z",
     "iopub.status.idle": "2023-04-25T17:14:46.520267Z",
     "shell.execute_reply": "2023-04-25T17:14:46.519211Z"
    },
    "papermill": {
     "duration": 1.171126,
     "end_time": "2023-04-25T17:14:46.523401",
     "exception": false,
     "start_time": "2023-04-25T17:14:45.352275",
     "status": "completed"
    },
    "tags": []
   },
   "outputs": [],
   "source": [
    "store_info = pd.read_csv(\"/kaggle/input/data-storm-4/Store-info.csv\")\n",
    "transactions=pd.read_csv(\"/kaggle/input/data-storm-4/Historical-transaction-data.csv\")\n",
    "testing = pd.read_csv(\"/kaggle/input/data-storm-4/Testing-data.csv\")"
   ]
  },
  {
   "cell_type": "markdown",
   "id": "78c2e343",
   "metadata": {
    "papermill": {
     "duration": 0.005858,
     "end_time": "2023-04-25T17:14:46.535409",
     "exception": false,
     "start_time": "2023-04-25T17:14:46.529551",
     "status": "completed"
    },
    "tags": []
   },
   "source": [
    "# Basic Feature Engineering and Seperating Training and Testing"
   ]
  },
  {
   "cell_type": "code",
   "execution_count": 3,
   "id": "b368ae0b",
   "metadata": {
    "execution": {
     "iopub.execute_input": "2023-04-25T17:14:46.550074Z",
     "iopub.status.busy": "2023-04-25T17:14:46.548960Z",
     "iopub.status.idle": "2023-04-25T17:14:54.961990Z",
     "shell.execute_reply": "2023-04-25T17:14:54.960722Z"
    },
    "papermill": {
     "duration": 8.423549,
     "end_time": "2023-04-25T17:14:54.965045",
     "exception": false,
     "start_time": "2023-04-25T17:14:46.541496",
     "status": "completed"
    },
    "tags": []
   },
   "outputs": [
    {
     "data": {
      "text/html": [
       "<div>\n",
       "<style scoped>\n",
       "    .dataframe tbody tr th:only-of-type {\n",
       "        vertical-align: middle;\n",
       "    }\n",
       "\n",
       "    .dataframe tbody tr th {\n",
       "        vertical-align: top;\n",
       "    }\n",
       "\n",
       "    .dataframe thead th {\n",
       "        text-align: right;\n",
       "    }\n",
       "</style>\n",
       "<table border=\"1\" class=\"dataframe\">\n",
       "  <thead>\n",
       "    <tr style=\"text-align: right;\">\n",
       "      <th></th>\n",
       "      <th>shop_id</th>\n",
       "      <th>area</th>\n",
       "      <th>income</th>\n",
       "      <th>quantity</th>\n",
       "      <th>profile</th>\n",
       "    </tr>\n",
       "  </thead>\n",
       "  <tbody>\n",
       "    <tr>\n",
       "      <th>0</th>\n",
       "      <td>SHOP047</td>\n",
       "      <td>528</td>\n",
       "      <td>842960</td>\n",
       "      <td>3288</td>\n",
       "      <td>Moderate</td>\n",
       "    </tr>\n",
       "    <tr>\n",
       "      <th>1</th>\n",
       "      <td>SHOP009</td>\n",
       "      <td>676</td>\n",
       "      <td>1970870</td>\n",
       "      <td>8411</td>\n",
       "      <td>High</td>\n",
       "    </tr>\n",
       "    <tr>\n",
       "      <th>2</th>\n",
       "      <td>SHOP083</td>\n",
       "      <td>676</td>\n",
       "      <td>1691985</td>\n",
       "      <td>6644</td>\n",
       "      <td>Low</td>\n",
       "    </tr>\n",
       "    <tr>\n",
       "      <th>3</th>\n",
       "      <td>SHOP117</td>\n",
       "      <td>676</td>\n",
       "      <td>2325980</td>\n",
       "      <td>8073</td>\n",
       "      <td>Low</td>\n",
       "    </tr>\n",
       "    <tr>\n",
       "      <th>4</th>\n",
       "      <td>SHOP042</td>\n",
       "      <td>676</td>\n",
       "      <td>1340215</td>\n",
       "      <td>5844</td>\n",
       "      <td>Low</td>\n",
       "    </tr>\n",
       "  </tbody>\n",
       "</table>\n",
       "</div>"
      ],
      "text/plain": [
       "   shop_id  area   income  quantity   profile\n",
       "0  SHOP047   528   842960      3288  Moderate\n",
       "1  SHOP009   676  1970870      8411      High\n",
       "2  SHOP083   676  1691985      6644       Low\n",
       "3  SHOP117   676  2325980      8073       Low\n",
       "4  SHOP042   676  1340215      5844       Low"
      ]
     },
     "execution_count": 3,
     "metadata": {},
     "output_type": "execute_result"
    }
   ],
   "source": [
    "#dropping the ones that are not necessaary for this stage\n",
    "transactions = transactions[['shop_id', 'item_price', 'quantity_sold']].copy()\n",
    "\n",
    "#creating the income column \n",
    "transactions[\"income\"] = transactions[\"item_price\"]*transactions[\"quantity_sold\"]\n",
    "# transactions.head()\n",
    "\n",
    "combined_data = store_info[['shop_id', 'shop_area_sq_ft']].copy()\n",
    "combined_data['income']= combined_data[\"shop_id\"].map(\n",
    "    lambda key:transactions[transactions[\"shop_id\"]==key][\"income\"].sum()\n",
    ")\n",
    "combined_data[\"quantity\"]=combined_data[\"shop_id\"].map(\n",
    "    lambda key:transactions[transactions[\"shop_id\"]==key][\"quantity_sold\"].sum()\n",
    ")\n",
    "combined_data = combined_data.rename(columns = {\"shop_area_sq_ft\":\"area\"})\n",
    "combined_data[\"profile\"] = store_info[\"shop_profile\"].copy()\n",
    "combined_data.head()"
   ]
  },
  {
   "cell_type": "code",
   "execution_count": 4,
   "id": "df18bd55",
   "metadata": {
    "execution": {
     "iopub.execute_input": "2023-04-25T17:14:54.979471Z",
     "iopub.status.busy": "2023-04-25T17:14:54.979057Z",
     "iopub.status.idle": "2023-04-25T17:14:54.987319Z",
     "shell.execute_reply": "2023-04-25T17:14:54.985910Z"
    },
    "papermill": {
     "duration": 0.018659,
     "end_time": "2023-04-25T17:14:54.989968",
     "exception": false,
     "start_time": "2023-04-25T17:14:54.971309",
     "status": "completed"
    },
    "tags": []
   },
   "outputs": [],
   "source": [
    "# Seprating Training and Testing\n",
    "training_data = combined_data[~combined_data[\"profile\"].isnull()].copy()\n",
    "testing_data = combined_data[combined_data[\"profile\"].isnull()].copy()\n"
   ]
  },
  {
   "cell_type": "code",
   "execution_count": 5,
   "id": "cbf4622f",
   "metadata": {
    "execution": {
     "iopub.execute_input": "2023-04-25T17:14:55.004643Z",
     "iopub.status.busy": "2023-04-25T17:14:55.004230Z",
     "iopub.status.idle": "2023-04-25T17:14:55.020472Z",
     "shell.execute_reply": "2023-04-25T17:14:55.019244Z"
    },
    "papermill": {
     "duration": 0.026548,
     "end_time": "2023-04-25T17:14:55.022846",
     "exception": false,
     "start_time": "2023-04-25T17:14:54.996298",
     "status": "completed"
    },
    "tags": []
   },
   "outputs": [
    {
     "data": {
      "text/html": [
       "<div>\n",
       "<style scoped>\n",
       "    .dataframe tbody tr th:only-of-type {\n",
       "        vertical-align: middle;\n",
       "    }\n",
       "\n",
       "    .dataframe tbody tr th {\n",
       "        vertical-align: top;\n",
       "    }\n",
       "\n",
       "    .dataframe thead th {\n",
       "        text-align: right;\n",
       "    }\n",
       "</style>\n",
       "<table border=\"1\" class=\"dataframe\">\n",
       "  <thead>\n",
       "    <tr style=\"text-align: right;\">\n",
       "      <th></th>\n",
       "      <th>shop_id</th>\n",
       "      <th>area</th>\n",
       "      <th>income</th>\n",
       "      <th>quantity</th>\n",
       "      <th>profile</th>\n",
       "    </tr>\n",
       "  </thead>\n",
       "  <tbody>\n",
       "    <tr>\n",
       "      <th>0</th>\n",
       "      <td>SHOP047</td>\n",
       "      <td>528</td>\n",
       "      <td>842960</td>\n",
       "      <td>3288</td>\n",
       "      <td>1</td>\n",
       "    </tr>\n",
       "    <tr>\n",
       "      <th>1</th>\n",
       "      <td>SHOP009</td>\n",
       "      <td>676</td>\n",
       "      <td>1970870</td>\n",
       "      <td>8411</td>\n",
       "      <td>2</td>\n",
       "    </tr>\n",
       "    <tr>\n",
       "      <th>2</th>\n",
       "      <td>SHOP083</td>\n",
       "      <td>676</td>\n",
       "      <td>1691985</td>\n",
       "      <td>6644</td>\n",
       "      <td>0</td>\n",
       "    </tr>\n",
       "    <tr>\n",
       "      <th>3</th>\n",
       "      <td>SHOP117</td>\n",
       "      <td>676</td>\n",
       "      <td>2325980</td>\n",
       "      <td>8073</td>\n",
       "      <td>0</td>\n",
       "    </tr>\n",
       "    <tr>\n",
       "      <th>4</th>\n",
       "      <td>SHOP042</td>\n",
       "      <td>676</td>\n",
       "      <td>1340215</td>\n",
       "      <td>5844</td>\n",
       "      <td>0</td>\n",
       "    </tr>\n",
       "  </tbody>\n",
       "</table>\n",
       "</div>"
      ],
      "text/plain": [
       "   shop_id  area   income  quantity  profile\n",
       "0  SHOP047   528   842960      3288        1\n",
       "1  SHOP009   676  1970870      8411        2\n",
       "2  SHOP083   676  1691985      6644        0\n",
       "3  SHOP117   676  2325980      8073        0\n",
       "4  SHOP042   676  1340215      5844        0"
      ]
     },
     "execution_count": 5,
     "metadata": {},
     "output_type": "execute_result"
    }
   ],
   "source": [
    "#Remapping profiles to numbers\n",
    "LOW = 0\n",
    "MODERATE = 1\n",
    "HIGH = 2\n",
    "PREDICTION_CLASSES = [LOW,MODERATE,HIGH]\n",
    "# Basic Feaure Names\n",
    "ID = \"shop_id\"\n",
    "PROFILE = \"profile\"\n",
    "QUANTITY = \"quantity\"\n",
    "INCOME = \"income\"\n",
    "AREA = \"area\"\n",
    "IP_TO_SP = {\n",
    "    LOW:\"Low\",\n",
    "    MODERATE:\"Moderate\",\n",
    "    HIGH:\"High\"\n",
    "}\n",
    "\n",
    "SP_TO_IP = {value:key for key,value in IP_TO_SP.items()}\n",
    "def iprofile_to_sprofile(iprofile:int):\n",
    "    return IP_TO_SP[iprofile]\n",
    "def sprofile_to_iprofile(sprofile:str):\n",
    "    return SP_TO_IP[sprofile]\n",
    "\n",
    "training_data['profile'] = training_data['profile'].map(sprofile_to_iprofile)\n",
    "training_data.head()"
   ]
  },
  {
   "cell_type": "markdown",
   "id": "96b81fa3",
   "metadata": {
    "papermill": {
     "duration": 0.006111,
     "end_time": "2023-04-25T17:14:55.035450",
     "exception": false,
     "start_time": "2023-04-25T17:14:55.029339",
     "status": "completed"
    },
    "tags": []
   },
   "source": [
    "# Visual Analysis of Data"
   ]
  },
  {
   "cell_type": "code",
   "execution_count": 6,
   "id": "06dc29e5",
   "metadata": {
    "execution": {
     "iopub.execute_input": "2023-04-25T17:14:55.050518Z",
     "iopub.status.busy": "2023-04-25T17:14:55.049844Z",
     "iopub.status.idle": "2023-04-25T17:14:55.057277Z",
     "shell.execute_reply": "2023-04-25T17:14:55.056287Z"
    },
    "papermill": {
     "duration": 0.01784,
     "end_time": "2023-04-25T17:14:55.059632",
     "exception": false,
     "start_time": "2023-04-25T17:14:55.041792",
     "status": "completed"
    },
    "tags": []
   },
   "outputs": [],
   "source": [
    "low_data = training_data[training_data[PROFILE]==LOW]\n",
    "moderate_data = training_data[training_data[PROFILE]==MODERATE]\n",
    "high_data = training_data[training_data[PROFILE]==HIGH]"
   ]
  },
  {
   "cell_type": "markdown",
   "id": "0bae330e",
   "metadata": {
    "papermill": {
     "duration": 0.006695,
     "end_time": "2023-04-25T17:14:55.072825",
     "exception": false,
     "start_time": "2023-04-25T17:14:55.066130",
     "status": "completed"
    },
    "tags": []
   },
   "source": [
    "## Low Data"
   ]
  },
  {
   "cell_type": "code",
   "execution_count": 7,
   "id": "750ec355",
   "metadata": {
    "execution": {
     "iopub.execute_input": "2023-04-25T17:14:55.089285Z",
     "iopub.status.busy": "2023-04-25T17:14:55.088609Z",
     "iopub.status.idle": "2023-04-25T17:14:55.461012Z",
     "shell.execute_reply": "2023-04-25T17:14:55.459789Z"
    },
    "papermill": {
     "duration": 0.383181,
     "end_time": "2023-04-25T17:14:55.463578",
     "exception": false,
     "start_time": "2023-04-25T17:14:55.080397",
     "status": "completed"
    },
    "tags": []
   },
   "outputs": [
    {
     "data": {
      "text/plain": [
       "<AxesSubplot:>"
      ]
     },
     "execution_count": 7,
     "metadata": {},
     "output_type": "execute_result"
    },
    {
     "data": {
      "image/png": "[encoded data removed]",
      "text/plain": [
       "<Figure size 640x480 with 1 Axes>"
      ]
     },
     "metadata": {},
     "output_type": "display_data"
    }
   ],
   "source": [
    "#area\n",
    "feature = AREA\n",
    "low_data[feature].hist()\n",
    "# plt.show()\n",
    "moderate_data[feature].hist()\n",
    "# plt.show()\n",
    "high_data[feature].hist()\n",
    "# plt.show()"
   ]
  },
  {
   "cell_type": "code",
   "execution_count": 8,
   "id": "93df5037",
   "metadata": {
    "execution": {
     "iopub.execute_input": "2023-04-25T17:14:55.479886Z",
     "iopub.status.busy": "2023-04-25T17:14:55.479028Z",
     "iopub.status.idle": "2023-04-25T17:14:55.689590Z",
     "shell.execute_reply": "2023-04-25T17:14:55.688332Z"
    },
    "papermill": {
     "duration": 0.221341,
     "end_time": "2023-04-25T17:14:55.692262",
     "exception": false,
     "start_time": "2023-04-25T17:14:55.470921",
     "status": "completed"
    },
    "tags": []
   },
   "outputs": [
    {
     "data": {
      "text/plain": [
       "<AxesSubplot:>"
      ]
     },
     "execution_count": 8,
     "metadata": {},
     "output_type": "execute_result"
    },
    {
     "data": {
      "image/png": "[encoded data removed]",
      "text/plain": [
       "<Figure size 640x480 with 1 Axes>"
      ]
     },
     "metadata": {},
     "output_type": "display_data"
    }
   ],
   "source": [
    "#income\n",
    "feature = INCOME\n",
    "low_data[feature].hist()\n",
    "moderate_data[feature].hist()\n",
    "high_data[feature].hist()"
   ]
  },
  {
   "cell_type": "code",
   "execution_count": 9,
   "id": "5458ad8e",
   "metadata": {
    "execution": {
     "iopub.execute_input": "2023-04-25T17:14:55.708667Z",
     "iopub.status.busy": "2023-04-25T17:14:55.708265Z",
     "iopub.status.idle": "2023-04-25T17:14:55.922938Z",
     "shell.execute_reply": "2023-04-25T17:14:55.921649Z"
    },
    "papermill": {
     "duration": 0.225962,
     "end_time": "2023-04-25T17:14:55.925515",
     "exception": false,
     "start_time": "2023-04-25T17:14:55.699553",
     "status": "completed"
    },
    "tags": []
   },
   "outputs": [
    {
     "data": {
      "text/plain": [
       "<AxesSubplot:>"
      ]
     },
     "execution_count": 9,
     "metadata": {},
     "output_type": "execute_result"
    },
    {
     "data": {
      "image/png": "[encoded data removed]",
      "text/plain": [
       "<Figure size 640x480 with 1 Axes>"
      ]
     },
     "metadata": {},
     "output_type": "display_data"
    }
   ],
   "source": [
    "#income\n",
    "feature = QUANTITY\n",
    "low_data[feature].hist()\n",
    "moderate_data[feature].hist()\n",
    "high_data[feature].hist()"
   ]
  },
  {
   "cell_type": "markdown",
   "id": "3b105fc6",
   "metadata": {
    "papermill": {
     "duration": 0.007217,
     "end_time": "2023-04-25T17:14:55.940228",
     "exception": false,
     "start_time": "2023-04-25T17:14:55.933011",
     "status": "completed"
    },
    "tags": []
   },
   "source": [
    "## Feature Vector Creation"
   ]
  },
  {
   "cell_type": "code",
   "execution_count": 10,
   "id": "cf21cefa",
   "metadata": {
    "execution": {
     "iopub.execute_input": "2023-04-25T17:14:55.957221Z",
     "iopub.status.busy": "2023-04-25T17:14:55.956523Z",
     "iopub.status.idle": "2023-04-25T17:14:55.965868Z",
     "shell.execute_reply": "2023-04-25T17:14:55.964591Z"
    },
    "papermill": {
     "duration": 0.020408,
     "end_time": "2023-04-25T17:14:55.968219",
     "exception": false,
     "start_time": "2023-04-25T17:14:55.947811",
     "status": "completed"
    },
    "tags": []
   },
   "outputs": [],
   "source": [
    "def create_feature_vectors(df,features,prediction_name=None,normalization_parameters=None,normalize=True):\n",
    "    #returns feature vector array and predictions if prediction_name is given\n",
    "    df = df.copy() #creating a local copy\n",
    "    #calculating normalization paramteres if they are not provided\n",
    "    \n",
    "    if(normalization_parameters is None):\n",
    "        normalization_parameters = {feature:(df[feature].mean(),df[feature].std()) for feature in features}\n",
    "    \n",
    "    #normalizing according to the paramters\n",
    "    if(normalize):\n",
    "        for feature in features:\n",
    "            mean,std = normalization_parameters[feature]\n",
    "            df[feature] = (df[feature] - mean)/std\n",
    "        \n",
    "    feature_vectors = np.stack([df[feature].to_numpy() for feature in features],axis=1)\n",
    "    if(prediction_name is None):\n",
    "        return feature_vectors,normalization_parameters,None\n",
    "    return feature_vectors,normalization_parameters,df[prediction_name].to_numpy()   "
   ]
  },
  {
   "cell_type": "code",
   "execution_count": 11,
   "id": "a74a3f3b",
   "metadata": {
    "execution": {
     "iopub.execute_input": "2023-04-25T17:14:55.985328Z",
     "iopub.status.busy": "2023-04-25T17:14:55.984501Z",
     "iopub.status.idle": "2023-04-25T17:14:55.994789Z",
     "shell.execute_reply": "2023-04-25T17:14:55.993917Z"
    },
    "papermill": {
     "duration": 0.021415,
     "end_time": "2023-04-25T17:14:55.997116",
     "exception": false,
     "start_time": "2023-04-25T17:14:55.975701",
     "status": "completed"
    },
    "tags": []
   },
   "outputs": [],
   "source": [
    "data = training_data\n",
    "# data= training_data.head()\n",
    "feature_vectors,normalization_parameters,ground_truth = create_feature_vectors(df=data,features=(AREA,INCOME,QUANTITY),prediction_name=PROFILE,normalize=True)"
   ]
  },
  {
   "cell_type": "markdown",
   "id": "8393e1d0",
   "metadata": {
    "papermill": {
     "duration": 0.00723,
     "end_time": "2023-04-25T17:14:56.011903",
     "exception": false,
     "start_time": "2023-04-25T17:14:56.004673",
     "status": "completed"
    },
    "tags": []
   },
   "source": [
    "# Functions for evaluvations"
   ]
  },
  {
   "cell_type": "code",
   "execution_count": 12,
   "id": "26811dec",
   "metadata": {
    "execution": {
     "iopub.execute_input": "2023-04-25T17:14:56.028776Z",
     "iopub.status.busy": "2023-04-25T17:14:56.028067Z",
     "iopub.status.idle": "2023-04-25T17:14:56.035029Z",
     "shell.execute_reply": "2023-04-25T17:14:56.033984Z"
    },
    "papermill": {
     "duration": 0.018335,
     "end_time": "2023-04-25T17:14:56.037520",
     "exception": false,
     "start_time": "2023-04-25T17:14:56.019185",
     "status": "completed"
    },
    "tags": []
   },
   "outputs": [],
   "source": [
    "def create_confusion_matrix(ground_truth,predictions,features):\n",
    "    n_features = len(features)\n",
    "    confusion_matrix = np.zeros((n_features,n_features))\n",
    "    for index1,f1 in enumerate(features):\n",
    "        for index2,f2 in enumerate(features):\n",
    "            confusion_matrix[index1,index2] = np.sum((ground_truth == f1) & (predictions == f2))\n",
    "    assert(len(predictions) == len(ground_truth) and len(predictions) == np.sum(confusion_matrix))\n",
    "    return confusion_matrix/np.sum(confusion_matrix)\n",
    "    "
   ]
  },
  {
   "cell_type": "markdown",
   "id": "1a8cfa80",
   "metadata": {
    "papermill": {
     "duration": 0.007121,
     "end_time": "2023-04-25T17:14:56.052257",
     "exception": false,
     "start_time": "2023-04-25T17:14:56.045136",
     "status": "completed"
    },
    "tags": []
   },
   "source": [
    "# Trying Out Basic Classification Methods"
   ]
  },
  {
   "cell_type": "markdown",
   "id": "cebeb7e2",
   "metadata": {
    "papermill": {
     "duration": 0.007126,
     "end_time": "2023-04-25T17:14:56.066773",
     "exception": false,
     "start_time": "2023-04-25T17:14:56.059647",
     "status": "completed"
    },
    "tags": []
   },
   "source": [
    "# Support Vector Machines"
   ]
  },
  {
   "cell_type": "code",
   "execution_count": 13,
   "id": "371c2670",
   "metadata": {
    "execution": {
     "iopub.execute_input": "2023-04-25T17:14:56.084188Z",
     "iopub.status.busy": "2023-04-25T17:14:56.083778Z",
     "iopub.status.idle": "2023-04-25T17:14:56.089967Z",
     "shell.execute_reply": "2023-04-25T17:14:56.088965Z"
    },
    "papermill": {
     "duration": 0.017476,
     "end_time": "2023-04-25T17:14:56.092111",
     "exception": false,
     "start_time": "2023-04-25T17:14:56.074635",
     "status": "completed"
    },
    "tags": []
   },
   "outputs": [],
   "source": [
    "def try_out_svm(kernel):\n",
    "    classifire = svm.SVC()\n",
    "    classifire.fit(feature_vectors,ground_truth)\n",
    "    predictions = classifire.predict(feature_vectors)\n",
    "    confusion_matrix = create_confusion_matrix(ground_truth,predictions,[0,1,2])\n",
    "    score = f1_score(y_true=ground_truth,y_pred=predictions,labels=PREDICTION_CLASSES,average='macro')\n",
    "    return confusion_matrix,score,classifire"
   ]
  },
  {
   "cell_type": "code",
   "execution_count": 14,
   "id": "fa998464",
   "metadata": {
    "execution": {
     "iopub.execute_input": "2023-04-25T17:14:56.108716Z",
     "iopub.status.busy": "2023-04-25T17:14:56.107979Z",
     "iopub.status.idle": "2023-04-25T17:14:56.134257Z",
     "shell.execute_reply": "2023-04-25T17:14:56.133365Z"
    },
    "papermill": {
     "duration": 0.037622,
     "end_time": "2023-04-25T17:14:56.137011",
     "exception": false,
     "start_time": "2023-04-25T17:14:56.099389",
     "status": "completed"
    },
    "tags": []
   },
   "outputs": [
    {
     "name": "stdout",
     "output_type": "stream",
     "text": [
      "************Trying out kernel = linear******************\n",
      "[[0.29 0.01 0.06]\n",
      " [0.16 0.11 0.06]\n",
      " [0.05 0.   0.26]]\n",
      "f1 score:0.6389768939819497\n",
      "**********************************************************\n",
      "************Trying out kernel = poly******************\n",
      "[[0.29 0.01 0.06]\n",
      " [0.16 0.11 0.06]\n",
      " [0.05 0.   0.26]]\n",
      "f1 score:0.6389768939819497\n",
      "**********************************************************\n",
      "************Trying out kernel = rbf******************\n",
      "[[0.29 0.01 0.06]\n",
      " [0.16 0.11 0.06]\n",
      " [0.05 0.   0.26]]\n",
      "f1 score:0.6389768939819497\n",
      "**********************************************************\n",
      "************Trying out kernel = sigmoid******************\n",
      "[[0.29 0.01 0.06]\n",
      " [0.16 0.11 0.06]\n",
      " [0.05 0.   0.26]]\n",
      "f1 score:0.6389768939819497\n",
      "**********************************************************\n",
      "************Trying out kernel = precomputed******************\n",
      "[[0.29 0.01 0.06]\n",
      " [0.16 0.11 0.06]\n",
      " [0.05 0.   0.26]]\n",
      "f1 score:0.6389768939819497\n",
      "**********************************************************\n"
     ]
    }
   ],
   "source": [
    "kernels = ['linear', 'poly', 'rbf', 'sigmoid', 'precomputed']\n",
    "best_svm = None\n",
    "best_score = -1\n",
    "for kernel in kernels:\n",
    "    print(f\"************Trying out kernel = {kernel}******************\")\n",
    "    cm,score,cla = try_out_svm(kernel)\n",
    "    if(best_score < score):\n",
    "        best_svm = cla\n",
    "        best_score = score\n",
    "    print(cm)\n",
    "    print(f\"f1 score:{score}\")\n",
    "    print(f\"**********************************************************\")"
   ]
  },
  {
   "cell_type": "markdown",
   "id": "54700ea6",
   "metadata": {
    "papermill": {
     "duration": 0.007211,
     "end_time": "2023-04-25T17:14:56.152444",
     "exception": false,
     "start_time": "2023-04-25T17:14:56.145233",
     "status": "completed"
    },
    "tags": []
   },
   "source": [
    "# Evaluvating the test data set"
   ]
  },
  {
   "cell_type": "code",
   "execution_count": 15,
   "id": "99f3f80e",
   "metadata": {
    "execution": {
     "iopub.execute_input": "2023-04-25T17:14:56.169195Z",
     "iopub.status.busy": "2023-04-25T17:14:56.168757Z",
     "iopub.status.idle": "2023-04-25T17:14:56.180351Z",
     "shell.execute_reply": "2023-04-25T17:14:56.179516Z"
    },
    "papermill": {
     "duration": 0.02261,
     "end_time": "2023-04-25T17:14:56.182432",
     "exception": false,
     "start_time": "2023-04-25T17:14:56.159822",
     "status": "completed"
    },
    "tags": []
   },
   "outputs": [
    {
     "data": {
      "text/html": [
       "<div>\n",
       "<style scoped>\n",
       "    .dataframe tbody tr th:only-of-type {\n",
       "        vertical-align: middle;\n",
       "    }\n",
       "\n",
       "    .dataframe tbody tr th {\n",
       "        vertical-align: top;\n",
       "    }\n",
       "\n",
       "    .dataframe thead th {\n",
       "        text-align: right;\n",
       "    }\n",
       "</style>\n",
       "<table border=\"1\" class=\"dataframe\">\n",
       "  <thead>\n",
       "    <tr style=\"text-align: right;\">\n",
       "      <th></th>\n",
       "      <th>shop_id</th>\n",
       "      <th>area</th>\n",
       "      <th>income</th>\n",
       "      <th>quantity</th>\n",
       "      <th>profile</th>\n",
       "    </tr>\n",
       "  </thead>\n",
       "  <tbody>\n",
       "    <tr>\n",
       "      <th>100</th>\n",
       "      <td>SHOP046</td>\n",
       "      <td>545</td>\n",
       "      <td>2607865</td>\n",
       "      <td>6941</td>\n",
       "      <td>NaN</td>\n",
       "    </tr>\n",
       "    <tr>\n",
       "      <th>101</th>\n",
       "      <td>SHOP024</td>\n",
       "      <td>676</td>\n",
       "      <td>1308795</td>\n",
       "      <td>5274</td>\n",
       "      <td>NaN</td>\n",
       "    </tr>\n",
       "    <tr>\n",
       "      <th>102</th>\n",
       "      <td>SHOP023</td>\n",
       "      <td>617</td>\n",
       "      <td>2570425</td>\n",
       "      <td>7946</td>\n",
       "      <td>NaN</td>\n",
       "    </tr>\n",
       "    <tr>\n",
       "      <th>103</th>\n",
       "      <td>SHOP097</td>\n",
       "      <td>310</td>\n",
       "      <td>2642380</td>\n",
       "      <td>6934</td>\n",
       "      <td>NaN</td>\n",
       "    </tr>\n",
       "    <tr>\n",
       "      <th>104</th>\n",
       "      <td>SHOP044</td>\n",
       "      <td>715</td>\n",
       "      <td>1310440</td>\n",
       "      <td>4965</td>\n",
       "      <td>NaN</td>\n",
       "    </tr>\n",
       "  </tbody>\n",
       "</table>\n",
       "</div>"
      ],
      "text/plain": [
       "     shop_id  area   income  quantity profile\n",
       "100  SHOP046   545  2607865      6941     NaN\n",
       "101  SHOP024   676  1308795      5274     NaN\n",
       "102  SHOP023   617  2570425      7946     NaN\n",
       "103  SHOP097   310  2642380      6934     NaN\n",
       "104  SHOP044   715  1310440      4965     NaN"
      ]
     },
     "execution_count": 15,
     "metadata": {},
     "output_type": "execute_result"
    }
   ],
   "source": [
    "testing_data.head()"
   ]
  },
  {
   "cell_type": "code",
   "execution_count": 16,
   "id": "ebb9f667",
   "metadata": {
    "execution": {
     "iopub.execute_input": "2023-04-25T17:14:56.200038Z",
     "iopub.status.busy": "2023-04-25T17:14:56.199312Z",
     "iopub.status.idle": "2023-04-25T17:14:56.216051Z",
     "shell.execute_reply": "2023-04-25T17:14:56.214916Z"
    },
    "papermill": {
     "duration": 0.028234,
     "end_time": "2023-04-25T17:14:56.218530",
     "exception": false,
     "start_time": "2023-04-25T17:14:56.190296",
     "status": "completed"
    },
    "tags": []
   },
   "outputs": [
    {
     "data": {
      "text/html": [
       "<div>\n",
       "<style scoped>\n",
       "    .dataframe tbody tr th:only-of-type {\n",
       "        vertical-align: middle;\n",
       "    }\n",
       "\n",
       "    .dataframe tbody tr th {\n",
       "        vertical-align: top;\n",
       "    }\n",
       "\n",
       "    .dataframe thead th {\n",
       "        text-align: right;\n",
       "    }\n",
       "</style>\n",
       "<table border=\"1\" class=\"dataframe\">\n",
       "  <thead>\n",
       "    <tr style=\"text-align: right;\">\n",
       "      <th></th>\n",
       "      <th>shop_id</th>\n",
       "      <th>shop_profile</th>\n",
       "    </tr>\n",
       "  </thead>\n",
       "  <tbody>\n",
       "    <tr>\n",
       "      <th>0</th>\n",
       "      <td>SHOP046</td>\n",
       "      <td>Moderate</td>\n",
       "    </tr>\n",
       "    <tr>\n",
       "      <th>1</th>\n",
       "      <td>SHOP024</td>\n",
       "      <td>Low</td>\n",
       "    </tr>\n",
       "    <tr>\n",
       "      <th>2</th>\n",
       "      <td>SHOP023</td>\n",
       "      <td>High</td>\n",
       "    </tr>\n",
       "    <tr>\n",
       "      <th>3</th>\n",
       "      <td>SHOP097</td>\n",
       "      <td>Moderate</td>\n",
       "    </tr>\n",
       "    <tr>\n",
       "      <th>4</th>\n",
       "      <td>SHOP044</td>\n",
       "      <td>Moderate</td>\n",
       "    </tr>\n",
       "    <tr>\n",
       "      <th>5</th>\n",
       "      <td>SHOP030</td>\n",
       "      <td>Moderate</td>\n",
       "    </tr>\n",
       "    <tr>\n",
       "      <th>6</th>\n",
       "      <td>SHOP038</td>\n",
       "      <td>Low</td>\n",
       "    </tr>\n",
       "    <tr>\n",
       "      <th>7</th>\n",
       "      <td>SHOP029</td>\n",
       "      <td>Low</td>\n",
       "    </tr>\n",
       "    <tr>\n",
       "      <th>8</th>\n",
       "      <td>SHOP096</td>\n",
       "      <td>High</td>\n",
       "    </tr>\n",
       "    <tr>\n",
       "      <th>9</th>\n",
       "      <td>SHOP092</td>\n",
       "      <td>Low</td>\n",
       "    </tr>\n",
       "    <tr>\n",
       "      <th>10</th>\n",
       "      <td>SHOP081</td>\n",
       "      <td>High</td>\n",
       "    </tr>\n",
       "    <tr>\n",
       "      <th>11</th>\n",
       "      <td>SHOP076</td>\n",
       "      <td>Low</td>\n",
       "    </tr>\n",
       "    <tr>\n",
       "      <th>12</th>\n",
       "      <td>SHOP080</td>\n",
       "      <td>Low</td>\n",
       "    </tr>\n",
       "    <tr>\n",
       "      <th>13</th>\n",
       "      <td>SHOP074</td>\n",
       "      <td>High</td>\n",
       "    </tr>\n",
       "    <tr>\n",
       "      <th>14</th>\n",
       "      <td>SHOP107</td>\n",
       "      <td>Low</td>\n",
       "    </tr>\n",
       "    <tr>\n",
       "      <th>15</th>\n",
       "      <td>SHOP108</td>\n",
       "      <td>Low</td>\n",
       "    </tr>\n",
       "    <tr>\n",
       "      <th>16</th>\n",
       "      <td>SHOP019</td>\n",
       "      <td>Moderate</td>\n",
       "    </tr>\n",
       "    <tr>\n",
       "      <th>17</th>\n",
       "      <td>SHOP002</td>\n",
       "      <td>High</td>\n",
       "    </tr>\n",
       "    <tr>\n",
       "      <th>18</th>\n",
       "      <td>SHOP114</td>\n",
       "      <td>Low</td>\n",
       "    </tr>\n",
       "    <tr>\n",
       "      <th>19</th>\n",
       "      <td>SHOP087</td>\n",
       "      <td>Low</td>\n",
       "    </tr>\n",
       "    <tr>\n",
       "      <th>20</th>\n",
       "      <td>SHOP050</td>\n",
       "      <td>Moderate</td>\n",
       "    </tr>\n",
       "    <tr>\n",
       "      <th>21</th>\n",
       "      <td>SHOP061</td>\n",
       "      <td>Low</td>\n",
       "    </tr>\n",
       "    <tr>\n",
       "      <th>22</th>\n",
       "      <td>SHOP056</td>\n",
       "      <td>High</td>\n",
       "    </tr>\n",
       "    <tr>\n",
       "      <th>23</th>\n",
       "      <td>SHOP070</td>\n",
       "      <td>Moderate</td>\n",
       "    </tr>\n",
       "  </tbody>\n",
       "</table>\n",
       "</div>"
      ],
      "text/plain": [
       "    shop_id shop_profile\n",
       "0   SHOP046     Moderate\n",
       "1   SHOP024          Low\n",
       "2   SHOP023         High\n",
       "3   SHOP097     Moderate\n",
       "4   SHOP044     Moderate\n",
       "5   SHOP030     Moderate\n",
       "6   SHOP038          Low\n",
       "7   SHOP029          Low\n",
       "8   SHOP096         High\n",
       "9   SHOP092          Low\n",
       "10  SHOP081         High\n",
       "11  SHOP076          Low\n",
       "12  SHOP080          Low\n",
       "13  SHOP074         High\n",
       "14  SHOP107          Low\n",
       "15  SHOP108          Low\n",
       "16  SHOP019     Moderate\n",
       "17  SHOP002         High\n",
       "18  SHOP114          Low\n",
       "19  SHOP087          Low\n",
       "20  SHOP050     Moderate\n",
       "21  SHOP061          Low\n",
       "22  SHOP056         High\n",
       "23  SHOP070     Moderate"
      ]
     },
     "execution_count": 16,
     "metadata": {},
     "output_type": "execute_result"
    }
   ],
   "source": [
    "data = testing_data\n",
    "# data= training_data.head()\n",
    "test_feature_vectors,normalization_parameters,_ = create_feature_vectors(df=data,features=(AREA,INCOME,QUANTITY),prediction_name=None,normalize=True,normalization_parameters=normalization_parameters)\n",
    "profile_predictions =best_svm.predict(test_feature_vectors)\n",
    "copy_testing = testing.copy()\n",
    "copy_testing['shop_profile'] = list(map(iprofile_to_sprofile,profile_predictions,))\n",
    "copy_testing"
   ]
  },
  {
   "cell_type": "code",
   "execution_count": 17,
   "id": "5c925461",
   "metadata": {
    "execution": {
     "iopub.execute_input": "2023-04-25T17:14:56.236580Z",
     "iopub.status.busy": "2023-04-25T17:14:56.236158Z",
     "iopub.status.idle": "2023-04-25T17:14:56.246629Z",
     "shell.execute_reply": "2023-04-25T17:14:56.245756Z"
    },
    "papermill": {
     "duration": 0.02225,
     "end_time": "2023-04-25T17:14:56.249042",
     "exception": false,
     "start_time": "2023-04-25T17:14:56.226792",
     "status": "completed"
    },
    "tags": []
   },
   "outputs": [],
   "source": [
    "copy_testing.to_csv(\"/kaggle/working/svm_1_test_predictions_praveen.csv\",index=False)"
   ]
  }
 ],
 "metadata": {
  "kernelspec": {
   "display_name": "Python 3",
   "language": "python",
   "name": "python3"
  },
  "language_info": {
   "codemirror_mode": {
    "name": "ipython",
    "version": 3
   },
   "file_extension": ".py",
   "mimetype": "text/x-python",
   "name": "python",
   "nbconvert_exporter": "python",
   "pygments_lexer": "ipython3",
   "version": "3.7.12"
  },
  "papermill": {
   "default_parameters": {},
   "duration": 22.570062,
   "end_time": "2023-04-25T17:14:56.979268",
   "environment_variables": {},
   "exception": null,
   "input_path": "__notebook__.ipynb",
   "output_path": "__notebook__.ipynb",
   "parameters": {},
   "start_time": "2023-04-25T17:14:34.409206",
   "version": "2.4.0"
  }
 },
 "nbformat": 4,
 "nbformat_minor": 5
}
