{
 "cells": [
  {
   "cell_type": "code",
   "execution_count": 1,
   "id": "900088ad",
   "metadata": {
    "_cell_guid": "b1076dfc-b9ad-4769-8c92-a6c4dae69d19",
    "_uuid": "8f2839f25d086af736a60e9eeb907d3b93b6e0e5",
    "execution": {
     "iopub.execute_input": "2023-04-26T10:13:04.746013Z",
     "iopub.status.busy": "2023-04-26T10:13:04.745463Z",
     "iopub.status.idle": "2023-04-26T10:13:06.421416Z",
     "shell.execute_reply": "2023-04-26T10:13:06.420138Z"
    },
    "papermill": {
     "duration": 1.691595,
     "end_time": "2023-04-26T10:13:06.424392",
     "exception": false,
     "start_time": "2023-04-26T10:13:04.732797",
     "status": "completed"
    },
    "tags": []
   },
   "outputs": [],
   "source": [
    "\n",
    "import numpy as np # linear algebra\n",
    "import pandas as pd # data processing, CSV file I/O (e.g. pd.read_csv)\n",
    "import matplotlib.pyplot as plt\n",
    "from sklearn import svm\n",
    "from sklearn.metrics import f1_score\n",
    "from sklearn.naive_bayes import GaussianNB,ComplementNB,MultinomialNB,BernoulliNB,CategoricalNB\n",
    "from sklearn.tree import DecisionTreeClassifier\n",
    "from sklearn.ensemble import RandomForestClassifier\n",
    "from sklearn.neighbors import KNeighborsClassifier"
   ]
  },
  {
   "cell_type": "markdown",
   "id": "c9592eea",
   "metadata": {
    "papermill": {
     "duration": 0.008438,
     "end_time": "2023-04-26T10:13:06.441991",
     "exception": false,
     "start_time": "2023-04-26T10:13:06.433553",
     "status": "completed"
    },
    "tags": []
   },
   "source": [
    "# Loading the Data"
   ]
  },
  {
   "cell_type": "code",
   "execution_count": 2,
   "id": "8e750543",
   "metadata": {
    "execution": {
     "iopub.execute_input": "2023-04-26T10:13:06.461352Z",
     "iopub.status.busy": "2023-04-26T10:13:06.460897Z",
     "iopub.status.idle": "2023-04-26T10:13:07.494942Z",
     "shell.execute_reply": "2023-04-26T10:13:07.493380Z"
    },
    "papermill": {
     "duration": 1.047303,
     "end_time": "2023-04-26T10:13:07.498067",
     "exception": false,
     "start_time": "2023-04-26T10:13:06.450764",
     "status": "completed"
    },
    "tags": []
   },
   "outputs": [
    {
     "data": {
      "text/html": [
       "<div>\n",
       "<style scoped>\n",
       "    .dataframe tbody tr th:only-of-type {\n",
       "        vertical-align: middle;\n",
       "    }\n",
       "\n",
       "    .dataframe tbody tr th {\n",
       "        vertical-align: top;\n",
       "    }\n",
       "\n",
       "    .dataframe thead th {\n",
       "        text-align: right;\n",
       "    }\n",
       "</style>\n",
       "<table border=\"1\" class=\"dataframe\">\n",
       "  <thead>\n",
       "    <tr style=\"text-align: right;\">\n",
       "      <th></th>\n",
       "      <th>shop_id</th>\n",
       "      <th>shop_area_sq_ft</th>\n",
       "      <th>shop_profile</th>\n",
       "    </tr>\n",
       "  </thead>\n",
       "  <tbody>\n",
       "    <tr>\n",
       "      <th>0</th>\n",
       "      <td>SHOP047</td>\n",
       "      <td>528</td>\n",
       "      <td>Moderate</td>\n",
       "    </tr>\n",
       "    <tr>\n",
       "      <th>1</th>\n",
       "      <td>SHOP009</td>\n",
       "      <td>676</td>\n",
       "      <td>High</td>\n",
       "    </tr>\n",
       "    <tr>\n",
       "      <th>2</th>\n",
       "      <td>SHOP083</td>\n",
       "      <td>676</td>\n",
       "      <td>Low</td>\n",
       "    </tr>\n",
       "    <tr>\n",
       "      <th>3</th>\n",
       "      <td>SHOP117</td>\n",
       "      <td>676</td>\n",
       "      <td>Low</td>\n",
       "    </tr>\n",
       "    <tr>\n",
       "      <th>4</th>\n",
       "      <td>SHOP042</td>\n",
       "      <td>676</td>\n",
       "      <td>Low</td>\n",
       "    </tr>\n",
       "    <tr>\n",
       "      <th>...</th>\n",
       "      <td>...</td>\n",
       "      <td>...</td>\n",
       "      <td>...</td>\n",
       "    </tr>\n",
       "    <tr>\n",
       "      <th>119</th>\n",
       "      <td>SHOP087</td>\n",
       "      <td>527</td>\n",
       "      <td>NaN</td>\n",
       "    </tr>\n",
       "    <tr>\n",
       "      <th>120</th>\n",
       "      <td>SHOP050</td>\n",
       "      <td>411</td>\n",
       "      <td>NaN</td>\n",
       "    </tr>\n",
       "    <tr>\n",
       "      <th>121</th>\n",
       "      <td>SHOP061</td>\n",
       "      <td>699</td>\n",
       "      <td>NaN</td>\n",
       "    </tr>\n",
       "    <tr>\n",
       "      <th>122</th>\n",
       "      <td>SHOP056</td>\n",
       "      <td>597</td>\n",
       "      <td>NaN</td>\n",
       "    </tr>\n",
       "    <tr>\n",
       "      <th>123</th>\n",
       "      <td>SHOP070</td>\n",
       "      <td>676</td>\n",
       "      <td>NaN</td>\n",
       "    </tr>\n",
       "  </tbody>\n",
       "</table>\n",
       "<p>124 rows × 3 columns</p>\n",
       "</div>"
      ],
      "text/plain": [
       "     shop_id  shop_area_sq_ft shop_profile\n",
       "0    SHOP047              528     Moderate\n",
       "1    SHOP009              676         High\n",
       "2    SHOP083              676          Low\n",
       "3    SHOP117              676          Low\n",
       "4    SHOP042              676          Low\n",
       "..       ...              ...          ...\n",
       "119  SHOP087              527          NaN\n",
       "120  SHOP050              411          NaN\n",
       "121  SHOP061              699          NaN\n",
       "122  SHOP056              597          NaN\n",
       "123  SHOP070              676          NaN\n",
       "\n",
       "[124 rows x 3 columns]"
      ]
     },
     "execution_count": 2,
     "metadata": {},
     "output_type": "execute_result"
    }
   ],
   "source": [
    "store_info = pd.read_csv(\"/kaggle/input/data-storm-4/Store-info.csv\")\n",
    "transactions=pd.read_csv(\"/kaggle/input/data-storm-4/Historical-transaction-data.csv\")\n",
    "testing = pd.read_csv(\"/kaggle/input/data-storm-4/Testing-data.csv\")\n",
    "# transactions[\"transaction_date\"]\n",
    "# len(transactions[transactions[\"shop_id\"] ==\"SHOP008\"][\"item_description\"].unique())\n",
    "transactions\n",
    "store_info\n"
   ]
  },
  {
   "cell_type": "markdown",
   "id": "02814372",
   "metadata": {
    "papermill": {
     "duration": 0.008787,
     "end_time": "2023-04-26T10:13:07.515991",
     "exception": false,
     "start_time": "2023-04-26T10:13:07.507204",
     "status": "completed"
    },
    "tags": []
   },
   "source": [
    "# Basic Feature Engineering and Seperating Training and Testing"
   ]
  },
  {
   "cell_type": "code",
   "execution_count": 3,
   "id": "661d4e94",
   "metadata": {
    "execution": {
     "iopub.execute_input": "2023-04-26T10:13:07.537380Z",
     "iopub.status.busy": "2023-04-26T10:13:07.535888Z",
     "iopub.status.idle": "2023-04-26T10:13:29.543216Z",
     "shell.execute_reply": "2023-04-26T10:13:29.540821Z"
    },
    "papermill": {
     "duration": 22.020845,
     "end_time": "2023-04-26T10:13:29.546203",
     "exception": false,
     "start_time": "2023-04-26T10:13:07.525358",
     "status": "completed"
    },
    "tags": []
   },
   "outputs": [
    {
     "name": "stdout",
     "output_type": "stream",
     "text": [
      "791.8345572731404\n"
     ]
    },
    {
     "data": {
      "text/html": [
       "<div>\n",
       "<style scoped>\n",
       "    .dataframe tbody tr th:only-of-type {\n",
       "        vertical-align: middle;\n",
       "    }\n",
       "\n",
       "    .dataframe tbody tr th {\n",
       "        vertical-align: top;\n",
       "    }\n",
       "\n",
       "    .dataframe thead th {\n",
       "        text-align: right;\n",
       "    }\n",
       "</style>\n",
       "<table border=\"1\" class=\"dataframe\">\n",
       "  <thead>\n",
       "    <tr style=\"text-align: right;\">\n",
       "      <th></th>\n",
       "      <th>shop_id</th>\n",
       "      <th>area</th>\n",
       "      <th>income</th>\n",
       "      <th>quantity</th>\n",
       "      <th>product_diversity</th>\n",
       "      <th>customer_diversity</th>\n",
       "      <th>profile</th>\n",
       "      <th>income_per_area</th>\n",
       "      <th>quantity_per_area</th>\n",
       "      <th>products_per_area</th>\n",
       "      <th>number_of_transactions</th>\n",
       "    </tr>\n",
       "  </thead>\n",
       "  <tbody>\n",
       "    <tr>\n",
       "      <th>0</th>\n",
       "      <td>SHOP047</td>\n",
       "      <td>528</td>\n",
       "      <td>842960</td>\n",
       "      <td>3288</td>\n",
       "      <td>36</td>\n",
       "      <td>928</td>\n",
       "      <td>Moderate</td>\n",
       "      <td>1596.515152</td>\n",
       "      <td>6.227273</td>\n",
       "      <td>0.068182</td>\n",
       "      <td>3.204545</td>\n",
       "    </tr>\n",
       "    <tr>\n",
       "      <th>1</th>\n",
       "      <td>SHOP009</td>\n",
       "      <td>676</td>\n",
       "      <td>1970870</td>\n",
       "      <td>8411</td>\n",
       "      <td>36</td>\n",
       "      <td>2498</td>\n",
       "      <td>High</td>\n",
       "      <td>2915.488166</td>\n",
       "      <td>12.442308</td>\n",
       "      <td>0.053254</td>\n",
       "      <td>6.788462</td>\n",
       "    </tr>\n",
       "    <tr>\n",
       "      <th>2</th>\n",
       "      <td>SHOP083</td>\n",
       "      <td>676</td>\n",
       "      <td>1691985</td>\n",
       "      <td>6644</td>\n",
       "      <td>37</td>\n",
       "      <td>1900</td>\n",
       "      <td>Low</td>\n",
       "      <td>2502.936391</td>\n",
       "      <td>9.828402</td>\n",
       "      <td>0.054734</td>\n",
       "      <td>5.346154</td>\n",
       "    </tr>\n",
       "    <tr>\n",
       "      <th>3</th>\n",
       "      <td>SHOP117</td>\n",
       "      <td>676</td>\n",
       "      <td>2325980</td>\n",
       "      <td>8073</td>\n",
       "      <td>36</td>\n",
       "      <td>2037</td>\n",
       "      <td>Low</td>\n",
       "      <td>3440.798817</td>\n",
       "      <td>11.942308</td>\n",
       "      <td>0.053254</td>\n",
       "      <td>6.026627</td>\n",
       "    </tr>\n",
       "    <tr>\n",
       "      <th>4</th>\n",
       "      <td>SHOP042</td>\n",
       "      <td>676</td>\n",
       "      <td>1340215</td>\n",
       "      <td>5844</td>\n",
       "      <td>36</td>\n",
       "      <td>1841</td>\n",
       "      <td>Low</td>\n",
       "      <td>1982.566568</td>\n",
       "      <td>8.644970</td>\n",
       "      <td>0.053254</td>\n",
       "      <td>4.840237</td>\n",
       "    </tr>\n",
       "    <tr>\n",
       "      <th>...</th>\n",
       "      <td>...</td>\n",
       "      <td>...</td>\n",
       "      <td>...</td>\n",
       "      <td>...</td>\n",
       "      <td>...</td>\n",
       "      <td>...</td>\n",
       "      <td>...</td>\n",
       "      <td>...</td>\n",
       "      <td>...</td>\n",
       "      <td>...</td>\n",
       "      <td>...</td>\n",
       "    </tr>\n",
       "    <tr>\n",
       "      <th>119</th>\n",
       "      <td>SHOP087</td>\n",
       "      <td>527</td>\n",
       "      <td>1128935</td>\n",
       "      <td>3750</td>\n",
       "      <td>36</td>\n",
       "      <td>1083</td>\n",
       "      <td>NaN</td>\n",
       "      <td>2142.191651</td>\n",
       "      <td>7.115750</td>\n",
       "      <td>0.068311</td>\n",
       "      <td>3.855787</td>\n",
       "    </tr>\n",
       "    <tr>\n",
       "      <th>120</th>\n",
       "      <td>SHOP050</td>\n",
       "      <td>411</td>\n",
       "      <td>2399125</td>\n",
       "      <td>7668</td>\n",
       "      <td>32</td>\n",
       "      <td>1778</td>\n",
       "      <td>NaN</td>\n",
       "      <td>5837.287105</td>\n",
       "      <td>18.656934</td>\n",
       "      <td>0.077859</td>\n",
       "      <td>9.559611</td>\n",
       "    </tr>\n",
       "    <tr>\n",
       "      <th>121</th>\n",
       "      <td>SHOP061</td>\n",
       "      <td>699</td>\n",
       "      <td>2110800</td>\n",
       "      <td>6053</td>\n",
       "      <td>36</td>\n",
       "      <td>1746</td>\n",
       "      <td>NaN</td>\n",
       "      <td>3019.742489</td>\n",
       "      <td>8.659514</td>\n",
       "      <td>0.051502</td>\n",
       "      <td>4.464950</td>\n",
       "    </tr>\n",
       "    <tr>\n",
       "      <th>122</th>\n",
       "      <td>SHOP056</td>\n",
       "      <td>597</td>\n",
       "      <td>3023805</td>\n",
       "      <td>11163</td>\n",
       "      <td>36</td>\n",
       "      <td>2832</td>\n",
       "      <td>NaN</td>\n",
       "      <td>5065.000000</td>\n",
       "      <td>18.698492</td>\n",
       "      <td>0.060302</td>\n",
       "      <td>9.651591</td>\n",
       "    </tr>\n",
       "    <tr>\n",
       "      <th>123</th>\n",
       "      <td>SHOP070</td>\n",
       "      <td>676</td>\n",
       "      <td>1325070</td>\n",
       "      <td>5028</td>\n",
       "      <td>37</td>\n",
       "      <td>1423</td>\n",
       "      <td>NaN</td>\n",
       "      <td>1960.162722</td>\n",
       "      <td>7.437870</td>\n",
       "      <td>0.054734</td>\n",
       "      <td>4.133136</td>\n",
       "    </tr>\n",
       "  </tbody>\n",
       "</table>\n",
       "<p>124 rows × 11 columns</p>\n",
       "</div>"
      ],
      "text/plain": [
       "     shop_id  area   income  quantity  product_diversity  customer_diversity  \\\n",
       "0    SHOP047   528   842960      3288                 36                 928   \n",
       "1    SHOP009   676  1970870      8411                 36                2498   \n",
       "2    SHOP083   676  1691985      6644                 37                1900   \n",
       "3    SHOP117   676  2325980      8073                 36                2037   \n",
       "4    SHOP042   676  1340215      5844                 36                1841   \n",
       "..       ...   ...      ...       ...                ...                 ...   \n",
       "119  SHOP087   527  1128935      3750                 36                1083   \n",
       "120  SHOP050   411  2399125      7668                 32                1778   \n",
       "121  SHOP061   699  2110800      6053                 36                1746   \n",
       "122  SHOP056   597  3023805     11163                 36                2832   \n",
       "123  SHOP070   676  1325070      5028                 37                1423   \n",
       "\n",
       "      profile  income_per_area  quantity_per_area  products_per_area  \\\n",
       "0    Moderate      1596.515152           6.227273           0.068182   \n",
       "1        High      2915.488166          12.442308           0.053254   \n",
       "2         Low      2502.936391           9.828402           0.054734   \n",
       "3         Low      3440.798817          11.942308           0.053254   \n",
       "4         Low      1982.566568           8.644970           0.053254   \n",
       "..        ...              ...                ...                ...   \n",
       "119       NaN      2142.191651           7.115750           0.068311   \n",
       "120       NaN      5837.287105          18.656934           0.077859   \n",
       "121       NaN      3019.742489           8.659514           0.051502   \n",
       "122       NaN      5065.000000          18.698492           0.060302   \n",
       "123       NaN      1960.162722           7.437870           0.054734   \n",
       "\n",
       "     number_of_transactions  \n",
       "0                  3.204545  \n",
       "1                  6.788462  \n",
       "2                  5.346154  \n",
       "3                  6.026627  \n",
       "4                  4.840237  \n",
       "..                      ...  \n",
       "119                3.855787  \n",
       "120                9.559611  \n",
       "121                4.464950  \n",
       "122                9.651591  \n",
       "123                4.133136  \n",
       "\n",
       "[124 rows x 11 columns]"
      ]
     },
     "execution_count": 3,
     "metadata": {},
     "output_type": "execute_result"
    }
   ],
   "source": [
    "#dropping the ones that are not necessaary for this stage\n",
    "# transactions = transactions[['shop_id', 'item_price', 'quantity_sold']].copy()\n",
    "\n",
    "#creating the income column \n",
    "transactions[\"income\"] = transactions[\"item_price\"]*transactions[\"quantity_sold\"]\n",
    "# transactions.head()\n",
    "\n",
    "combined_data = store_info[['shop_id', 'shop_area_sq_ft']].copy()\n",
    "combined_data['income']= combined_data[\"shop_id\"].map(\n",
    "    lambda key:transactions[transactions[\"shop_id\"]==key][\"income\"].sum()\n",
    ")\n",
    "combined_data[\"quantity\"]=combined_data[\"shop_id\"].map(\n",
    "    lambda key:transactions[transactions[\"shop_id\"]==key][\"quantity_sold\"].sum()\n",
    ")\n",
    "combined_data[\"product_diversity\"]=combined_data[\"shop_id\"].map(\n",
    "    lambda key:len(transactions[transactions[\"shop_id\"] ==key][\"item_description\"].unique())\n",
    ")\n",
    "combined_data[\"customer_diversity\"]=combined_data[\"shop_id\"].map(\n",
    "    lambda key:len(transactions[transactions[\"shop_id\"] ==key][\"customer_id\"].unique())\n",
    ")\n",
    "combined_data = combined_data.rename(columns = {\"shop_area_sq_ft\":\"area\"})\n",
    "combined_data[\"profile\"] = store_info[\"shop_profile\"].copy()\n",
    "combined_data[\"income_per_area\"]=combined_data[\"income\"]/combined_data[\"area\"]\n",
    "combined_data[\"quantity_per_area\"]=combined_data[\"quantity\"]/combined_data[\"area\"]\n",
    "combined_data[\"products_per_area\"]=combined_data[\"product_diversity\"]/combined_data[\"area\"]\n",
    "combined_data[\"number_of_transactions\"] = combined_data[\"shop_id\"].map(\n",
    "    lambda key:len(transactions[transactions[\"shop_id\"] ==key])\n",
    ")/combined_data[\"area\"]\n",
    "print(combined_data[\"number_of_transactions\"].sum())\n",
    "combined_data\n"
   ]
  },
  {
   "cell_type": "code",
   "execution_count": 4,
   "id": "08d2aaed",
   "metadata": {
    "execution": {
     "iopub.execute_input": "2023-04-26T10:13:29.567447Z",
     "iopub.status.busy": "2023-04-26T10:13:29.566444Z",
     "iopub.status.idle": "2023-04-26T10:13:29.575500Z",
     "shell.execute_reply": "2023-04-26T10:13:29.573966Z"
    },
    "papermill": {
     "duration": 0.023695,
     "end_time": "2023-04-26T10:13:29.579400",
     "exception": false,
     "start_time": "2023-04-26T10:13:29.555705",
     "status": "completed"
    },
    "tags": []
   },
   "outputs": [],
   "source": [
    "# Seprating Training and Testing\n",
    "training_data = combined_data[~combined_data[\"profile\"].isnull()].copy()\n",
    "testing_data = combined_data[combined_data[\"profile\"].isnull()].copy()\n"
   ]
  },
  {
   "cell_type": "code",
   "execution_count": 5,
   "id": "983a47e6",
   "metadata": {
    "execution": {
     "iopub.execute_input": "2023-04-26T10:13:29.601740Z",
     "iopub.status.busy": "2023-04-26T10:13:29.600884Z",
     "iopub.status.idle": "2023-04-26T10:13:29.622814Z",
     "shell.execute_reply": "2023-04-26T10:13:29.621514Z"
    },
    "papermill": {
     "duration": 0.036203,
     "end_time": "2023-04-26T10:13:29.625448",
     "exception": false,
     "start_time": "2023-04-26T10:13:29.589245",
     "status": "completed"
    },
    "tags": []
   },
   "outputs": [
    {
     "data": {
      "text/html": [
       "<div>\n",
       "<style scoped>\n",
       "    .dataframe tbody tr th:only-of-type {\n",
       "        vertical-align: middle;\n",
       "    }\n",
       "\n",
       "    .dataframe tbody tr th {\n",
       "        vertical-align: top;\n",
       "    }\n",
       "\n",
       "    .dataframe thead th {\n",
       "        text-align: right;\n",
       "    }\n",
       "</style>\n",
       "<table border=\"1\" class=\"dataframe\">\n",
       "  <thead>\n",
       "    <tr style=\"text-align: right;\">\n",
       "      <th></th>\n",
       "      <th>shop_id</th>\n",
       "      <th>area</th>\n",
       "      <th>income</th>\n",
       "      <th>quantity</th>\n",
       "      <th>product_diversity</th>\n",
       "      <th>customer_diversity</th>\n",
       "      <th>profile</th>\n",
       "      <th>income_per_area</th>\n",
       "      <th>quantity_per_area</th>\n",
       "      <th>products_per_area</th>\n",
       "      <th>number_of_transactions</th>\n",
       "    </tr>\n",
       "  </thead>\n",
       "  <tbody>\n",
       "    <tr>\n",
       "      <th>0</th>\n",
       "      <td>SHOP047</td>\n",
       "      <td>528</td>\n",
       "      <td>842960</td>\n",
       "      <td>3288</td>\n",
       "      <td>36</td>\n",
       "      <td>928</td>\n",
       "      <td>1</td>\n",
       "      <td>1596.515152</td>\n",
       "      <td>6.227273</td>\n",
       "      <td>0.068182</td>\n",
       "      <td>3.204545</td>\n",
       "    </tr>\n",
       "    <tr>\n",
       "      <th>1</th>\n",
       "      <td>SHOP009</td>\n",
       "      <td>676</td>\n",
       "      <td>1970870</td>\n",
       "      <td>8411</td>\n",
       "      <td>36</td>\n",
       "      <td>2498</td>\n",
       "      <td>2</td>\n",
       "      <td>2915.488166</td>\n",
       "      <td>12.442308</td>\n",
       "      <td>0.053254</td>\n",
       "      <td>6.788462</td>\n",
       "    </tr>\n",
       "    <tr>\n",
       "      <th>2</th>\n",
       "      <td>SHOP083</td>\n",
       "      <td>676</td>\n",
       "      <td>1691985</td>\n",
       "      <td>6644</td>\n",
       "      <td>37</td>\n",
       "      <td>1900</td>\n",
       "      <td>0</td>\n",
       "      <td>2502.936391</td>\n",
       "      <td>9.828402</td>\n",
       "      <td>0.054734</td>\n",
       "      <td>5.346154</td>\n",
       "    </tr>\n",
       "    <tr>\n",
       "      <th>3</th>\n",
       "      <td>SHOP117</td>\n",
       "      <td>676</td>\n",
       "      <td>2325980</td>\n",
       "      <td>8073</td>\n",
       "      <td>36</td>\n",
       "      <td>2037</td>\n",
       "      <td>0</td>\n",
       "      <td>3440.798817</td>\n",
       "      <td>11.942308</td>\n",
       "      <td>0.053254</td>\n",
       "      <td>6.026627</td>\n",
       "    </tr>\n",
       "    <tr>\n",
       "      <th>4</th>\n",
       "      <td>SHOP042</td>\n",
       "      <td>676</td>\n",
       "      <td>1340215</td>\n",
       "      <td>5844</td>\n",
       "      <td>36</td>\n",
       "      <td>1841</td>\n",
       "      <td>0</td>\n",
       "      <td>1982.566568</td>\n",
       "      <td>8.644970</td>\n",
       "      <td>0.053254</td>\n",
       "      <td>4.840237</td>\n",
       "    </tr>\n",
       "  </tbody>\n",
       "</table>\n",
       "</div>"
      ],
      "text/plain": [
       "   shop_id  area   income  quantity  product_diversity  customer_diversity  \\\n",
       "0  SHOP047   528   842960      3288                 36                 928   \n",
       "1  SHOP009   676  1970870      8411                 36                2498   \n",
       "2  SHOP083   676  1691985      6644                 37                1900   \n",
       "3  SHOP117   676  2325980      8073                 36                2037   \n",
       "4  SHOP042   676  1340215      5844                 36                1841   \n",
       "\n",
       "   profile  income_per_area  quantity_per_area  products_per_area  \\\n",
       "0        1      1596.515152           6.227273           0.068182   \n",
       "1        2      2915.488166          12.442308           0.053254   \n",
       "2        0      2502.936391           9.828402           0.054734   \n",
       "3        0      3440.798817          11.942308           0.053254   \n",
       "4        0      1982.566568           8.644970           0.053254   \n",
       "\n",
       "   number_of_transactions  \n",
       "0                3.204545  \n",
       "1                6.788462  \n",
       "2                5.346154  \n",
       "3                6.026627  \n",
       "4                4.840237  "
      ]
     },
     "execution_count": 5,
     "metadata": {},
     "output_type": "execute_result"
    }
   ],
   "source": [
    "#Remapping profiles to numbers\n",
    "LOW = 0\n",
    "MODERATE = 1\n",
    "HIGH = 2\n",
    "PREDICTION_CLASSES = [LOW,MODERATE,HIGH]\n",
    "# Basic Feaure Names\n",
    "ID = \"shop_id\"\n",
    "PROFILE = \"profile\"\n",
    "QUANTITY = \"quantity\"\n",
    "INCOME = \"income\"\n",
    "AREA = \"area\"\n",
    "PRODUCT_DIVERSITY = \"product_diversity\"\n",
    "CUSTOMER_DIVERSITY = \"customer_diversity\"\n",
    "INCOME_PER_AREA = \"income_per_area\"\n",
    "QUANTITY_PER_AREA = \"quantity_per_area\"\n",
    "PRODUCTS_PER_AREA = \"products_per_area\"\n",
    "NUMBER_OF_TRANSACTIONS = \"number_of_transactions\"\n",
    "IP_TO_SP = {\n",
    "    LOW:\"Low\",\n",
    "    MODERATE:\"Moderate\",\n",
    "    HIGH:\"High\"\n",
    "}\n",
    "\n",
    "SP_TO_IP = {value:key for key,value in IP_TO_SP.items()}\n",
    "def iprofile_to_sprofile(iprofile:int):\n",
    "    return IP_TO_SP[iprofile]\n",
    "def sprofile_to_iprofile(sprofile:str):\n",
    "    return SP_TO_IP[sprofile]\n",
    "\n",
    "training_data['profile'] = training_data['profile'].map(sprofile_to_iprofile)\n",
    "training_data.head()"
   ]
  },
  {
   "cell_type": "markdown",
   "id": "b0c928d1",
   "metadata": {
    "papermill": {
     "duration": 0.00916,
     "end_time": "2023-04-26T10:13:29.645635",
     "exception": false,
     "start_time": "2023-04-26T10:13:29.636475",
     "status": "completed"
    },
    "tags": []
   },
   "source": [
    "# Visual Analysis of Data"
   ]
  },
  {
   "cell_type": "code",
   "execution_count": 6,
   "id": "9e59197f",
   "metadata": {
    "execution": {
     "iopub.execute_input": "2023-04-26T10:13:29.666704Z",
     "iopub.status.busy": "2023-04-26T10:13:29.666267Z",
     "iopub.status.idle": "2023-04-26T10:13:29.674528Z",
     "shell.execute_reply": "2023-04-26T10:13:29.673485Z"
    },
    "papermill": {
     "duration": 0.022009,
     "end_time": "2023-04-26T10:13:29.677195",
     "exception": false,
     "start_time": "2023-04-26T10:13:29.655186",
     "status": "completed"
    },
    "tags": []
   },
   "outputs": [],
   "source": [
    "low_data = training_data[training_data[PROFILE]==LOW]\n",
    "moderate_data = training_data[training_data[PROFILE]==MODERATE]\n",
    "high_data = training_data[training_data[PROFILE]==HIGH]"
   ]
  },
  {
   "cell_type": "code",
   "execution_count": 7,
   "id": "e0ca1905",
   "metadata": {
    "execution": {
     "iopub.execute_input": "2023-04-26T10:13:29.700036Z",
     "iopub.status.busy": "2023-04-26T10:13:29.699588Z",
     "iopub.status.idle": "2023-04-26T10:13:30.065745Z",
     "shell.execute_reply": "2023-04-26T10:13:30.064431Z"
    },
    "papermill": {
     "duration": 0.380686,
     "end_time": "2023-04-26T10:13:30.068629",
     "exception": false,
     "start_time": "2023-04-26T10:13:29.687943",
     "status": "completed"
    },
    "tags": []
   },
   "outputs": [
    {
     "data": {
      "text/plain": [
       "<AxesSubplot:>"
      ]
     },
     "execution_count": 7,
     "metadata": {},
     "output_type": "execute_result"
    },
    {
     "data": {
      "image/png": "[encoded data removed]",
      "text/plain": [
       "<Figure size 640x480 with 1 Axes>"
      ]
     },
     "metadata": {},
     "output_type": "display_data"
    }
   ],
   "source": [
    "#area\n",
    "feature = NUMBER_OF_TRANSACTIONS\n",
    "low_data[feature].hist()\n",
    "# plt.show()\n",
    "moderate_data[feature].hist()\n",
    "# plt.show()\n",
    "high_data[feature].hist()\n",
    "# plt.show()"
   ]
  },
  {
   "cell_type": "markdown",
   "id": "c688280c",
   "metadata": {
    "papermill": {
     "duration": 0.009821,
     "end_time": "2023-04-26T10:13:30.089467",
     "exception": false,
     "start_time": "2023-04-26T10:13:30.079646",
     "status": "completed"
    },
    "tags": []
   },
   "source": [
    "## Feature Vector Creation"
   ]
  },
  {
   "cell_type": "code",
   "execution_count": 8,
   "id": "0ab975d0",
   "metadata": {
    "execution": {
     "iopub.execute_input": "2023-04-26T10:13:30.112958Z",
     "iopub.status.busy": "2023-04-26T10:13:30.112197Z",
     "iopub.status.idle": "2023-04-26T10:13:30.122143Z",
     "shell.execute_reply": "2023-04-26T10:13:30.120914Z"
    },
    "papermill": {
     "duration": 0.025035,
     "end_time": "2023-04-26T10:13:30.124867",
     "exception": false,
     "start_time": "2023-04-26T10:13:30.099832",
     "status": "completed"
    },
    "tags": []
   },
   "outputs": [],
   "source": [
    "def create_feature_vectors(df,features,prediction_name=None,normalization_parameters=None,normalize=True):\n",
    "    #returns feature vector array and predictions if prediction_name is given\n",
    "    df = df.copy() #creating a local copy\n",
    "    #calculating normalization paramteres if they are not provided\n",
    "    \n",
    "    if(normalization_parameters is None):\n",
    "        print(\"************************************\")\n",
    "        print(\"Caclulating normalizing paramters!!!\")\n",
    "        print(\"************************************\")\n",
    "        normalization_parameters = {feature:(df[feature].mean(),df[feature].std()) for feature in features}\n",
    "    \n",
    "    #normalizing according to the paramters\n",
    "    if(normalize):\n",
    "        for feature in features:\n",
    "            mean,std = normalization_parameters[feature]\n",
    "            df[feature] = (df[feature] - mean)/std\n",
    "        \n",
    "    feature_vectors = np.stack([df[feature].to_numpy() for feature in features],axis=1)\n",
    "    if(prediction_name is None):\n",
    "        return feature_vectors,normalization_parameters,None\n",
    "    return feature_vectors,normalization_parameters,df[prediction_name].to_numpy()   "
   ]
  },
  {
   "cell_type": "code",
   "execution_count": 9,
   "id": "4dbcfd2c",
   "metadata": {
    "execution": {
     "iopub.execute_input": "2023-04-26T10:13:30.147319Z",
     "iopub.status.busy": "2023-04-26T10:13:30.146634Z",
     "iopub.status.idle": "2023-04-26T10:13:30.157660Z",
     "shell.execute_reply": "2023-04-26T10:13:30.156342Z"
    },
    "papermill": {
     "duration": 0.025083,
     "end_time": "2023-04-26T10:13:30.160000",
     "exception": false,
     "start_time": "2023-04-26T10:13:30.134917",
     "status": "completed"
    },
    "tags": []
   },
   "outputs": [
    {
     "name": "stdout",
     "output_type": "stream",
     "text": [
      "************************************\n",
      "Caclulating normalizing paramters!!!\n",
      "************************************\n"
     ]
    }
   ],
   "source": [
    "data = training_data\n",
    "# data= training_data.head()\n",
    "feature_vectors,normalization_parameters,ground_truth = create_feature_vectors(df=data,features=(AREA,PRODUCT_DIVERSITY,CUSTOMER_DIVERSITY,INCOME_PER_AREA),prediction_name=PROFILE,normalize=True)"
   ]
  },
  {
   "cell_type": "markdown",
   "id": "545dee9d",
   "metadata": {
    "papermill": {
     "duration": 0.010622,
     "end_time": "2023-04-26T10:13:30.180530",
     "exception": false,
     "start_time": "2023-04-26T10:13:30.169908",
     "status": "completed"
    },
    "tags": []
   },
   "source": [
    "# Functions for evaluvations"
   ]
  },
  {
   "cell_type": "code",
   "execution_count": 10,
   "id": "7a23c0b2",
   "metadata": {
    "execution": {
     "iopub.execute_input": "2023-04-26T10:13:30.203888Z",
     "iopub.status.busy": "2023-04-26T10:13:30.203092Z",
     "iopub.status.idle": "2023-04-26T10:13:30.210776Z",
     "shell.execute_reply": "2023-04-26T10:13:30.209798Z"
    },
    "papermill": {
     "duration": 0.02257,
     "end_time": "2023-04-26T10:13:30.213300",
     "exception": false,
     "start_time": "2023-04-26T10:13:30.190730",
     "status": "completed"
    },
    "tags": []
   },
   "outputs": [],
   "source": [
    "def create_confusion_matrix(ground_truth,predictions,features):\n",
    "    n_features = len(features)\n",
    "    confusion_matrix = np.zeros((n_features,n_features))\n",
    "    for index1,f1 in enumerate(features):\n",
    "        for index2,f2 in enumerate(features):\n",
    "            confusion_matrix[index1,index2] = np.sum((ground_truth == f1) & (predictions == f2))\n",
    "    assert(len(predictions) == len(ground_truth) and len(predictions) == np.sum(confusion_matrix))\n",
    "    return confusion_matrix/np.sum(confusion_matrix)\n",
    "    "
   ]
  },
  {
   "cell_type": "markdown",
   "id": "7c95c9ee",
   "metadata": {
    "papermill": {
     "duration": 0.009894,
     "end_time": "2023-04-26T10:13:30.233236",
     "exception": false,
     "start_time": "2023-04-26T10:13:30.223342",
     "status": "completed"
    },
    "tags": []
   },
   "source": [
    "# Trying Out Basic Classification Methods"
   ]
  },
  {
   "cell_type": "markdown",
   "id": "23f1e5f7",
   "metadata": {
    "papermill": {
     "duration": 0.009658,
     "end_time": "2023-04-26T10:13:30.252960",
     "exception": false,
     "start_time": "2023-04-26T10:13:30.243302",
     "status": "completed"
    },
    "tags": []
   },
   "source": [
    "# Support Vector Machines"
   ]
  },
  {
   "cell_type": "code",
   "execution_count": 11,
   "id": "ce0d6c25",
   "metadata": {
    "execution": {
     "iopub.execute_input": "2023-04-26T10:13:30.275447Z",
     "iopub.status.busy": "2023-04-26T10:13:30.274758Z",
     "iopub.status.idle": "2023-04-26T10:13:30.281483Z",
     "shell.execute_reply": "2023-04-26T10:13:30.280423Z"
    },
    "papermill": {
     "duration": 0.021221,
     "end_time": "2023-04-26T10:13:30.284113",
     "exception": false,
     "start_time": "2023-04-26T10:13:30.262892",
     "status": "completed"
    },
    "tags": []
   },
   "outputs": [],
   "source": [
    "def try_out_svm(kernel):\n",
    "    classifire = svm.SVC(kernel=kernel)\n",
    "    classifire.fit(feature_vectors,ground_truth)\n",
    "    predictions = classifire.predict(feature_vectors)\n",
    "    confusion_matrix = create_confusion_matrix(ground_truth,predictions,[0,1,2])\n",
    "    score = f1_score(y_true=ground_truth,y_pred=predictions,labels=PREDICTION_CLASSES,average='macro')\n",
    "    return confusion_matrix,score,classifire"
   ]
  },
  {
   "cell_type": "code",
   "execution_count": 12,
   "id": "5fa07596",
   "metadata": {
    "execution": {
     "iopub.execute_input": "2023-04-26T10:13:30.307011Z",
     "iopub.status.busy": "2023-04-26T10:13:30.306589Z",
     "iopub.status.idle": "2023-04-26T10:13:30.332124Z",
     "shell.execute_reply": "2023-04-26T10:13:30.330661Z"
    },
    "papermill": {
     "duration": 0.039828,
     "end_time": "2023-04-26T10:13:30.334583",
     "exception": false,
     "start_time": "2023-04-26T10:13:30.294755",
     "status": "completed"
    },
    "tags": []
   },
   "outputs": [
    {
     "name": "stdout",
     "output_type": "stream",
     "text": [
      "************Trying out kernel = linear******************\n",
      "[[0.22 0.08 0.06]\n",
      " [0.05 0.23 0.05]\n",
      " [0.04 0.02 0.25]]\n",
      "f1 score:0.6999849238655208\n",
      "**********************************************************\n",
      "************Trying out kernel = poly******************\n",
      "[[0.35 0.   0.01]\n",
      " [0.19 0.14 0.  ]\n",
      " [0.16 0.   0.15]]\n",
      "f1 score:0.6314733038940185\n",
      "**********************************************************\n",
      "************Trying out kernel = rbf******************\n",
      "[[0.27 0.06 0.03]\n",
      " [0.05 0.24 0.04]\n",
      " [0.06 0.02 0.23]]\n",
      "f1 score:0.7407632096156687\n",
      "**********************************************************\n",
      "************Trying out kernel = sigmoid******************\n",
      "[[0.26 0.05 0.05]\n",
      " [0.18 0.08 0.07]\n",
      " [0.05 0.05 0.21]]\n",
      "f1 score:0.5272467320261438\n",
      "**********************************************************\n"
     ]
    }
   ],
   "source": [
    "kernels = ['linear', 'poly', 'rbf', 'sigmoid']\n",
    "best_svm = None\n",
    "best_score = -1\n",
    "for kernel in kernels:\n",
    "    print(f\"************Trying out kernel = {kernel}******************\")\n",
    "    cm,score,cla = try_out_svm(kernel)\n",
    "    if(best_score < score):\n",
    "        best_svm = cla\n",
    "        best_score = score\n",
    "    print(cm)\n",
    "    print(f\"f1 score:{score}\")\n",
    "    print(f\"**********************************************************\")"
   ]
  },
  {
   "cell_type": "markdown",
   "id": "f360bc6f",
   "metadata": {
    "papermill": {
     "duration": 0.009886,
     "end_time": "2023-04-26T10:13:30.354621",
     "exception": false,
     "start_time": "2023-04-26T10:13:30.344735",
     "status": "completed"
    },
    "tags": []
   },
   "source": [
    "# Naive Bayes"
   ]
  },
  {
   "cell_type": "code",
   "execution_count": 13,
   "id": "d348e815",
   "metadata": {
    "execution": {
     "iopub.execute_input": "2023-04-26T10:13:30.377403Z",
     "iopub.status.busy": "2023-04-26T10:13:30.376183Z",
     "iopub.status.idle": "2023-04-26T10:13:30.392337Z",
     "shell.execute_reply": "2023-04-26T10:13:30.390667Z"
    },
    "papermill": {
     "duration": 0.030459,
     "end_time": "2023-04-26T10:13:30.395075",
     "exception": false,
     "start_time": "2023-04-26T10:13:30.364616",
     "status": "completed"
    },
    "tags": []
   },
   "outputs": [
    {
     "name": "stdout",
     "output_type": "stream",
     "text": [
      "***************************Gaussian*******************************\n",
      "[[0.28 0.04 0.04]\n",
      " [0.13 0.14 0.06]\n",
      " [0.06 0.01 0.24]]\n",
      "0.6505406240346\n",
      "****************************************************************\n",
      "***************************Bernouli*******************************\n",
      "[[0.24 0.03 0.09]\n",
      " [0.17 0.07 0.09]\n",
      " [0.05 0.01 0.25]]\n",
      "0.5264077825053435\n",
      "****************************************************************\n"
     ]
    }
   ],
   "source": [
    "algos = {\n",
    "    \"Gaussian\":GaussianNB,\n",
    "#     \"Multinomial\":MultinomialNB,\n",
    "#     \"Complement\":ComplementNB,\n",
    "    \"Bernouli\":BernoulliNB,\n",
    "#     \"Categorial\":CategoricalNB\n",
    "}\n",
    "best_naive = None\n",
    "best_score = -1\n",
    "for name,algo in algos.items():\n",
    "    print(f\"***************************{name}*******************************\")\n",
    "    classifire_gnb = algo()\n",
    "    classifire_gnb.fit(feature_vectors,ground_truth)\n",
    "    predictions = classifire_gnb.predict(feature_vectors)\n",
    "    confusion_matrix = create_confusion_matrix(ground_truth,predictions,[0,1,2])\n",
    "    score = f1_score(y_true=ground_truth,y_pred=predictions,labels=PREDICTION_CLASSES,average='macro')\n",
    "    if(score > best_score):\n",
    "        best_naive = classifire_gnb\n",
    "        best_score = score\n",
    "    print(confusion_matrix)\n",
    "    print(score)\n",
    "    print(\"****************************************************************\")"
   ]
  },
  {
   "cell_type": "markdown",
   "id": "9a0e7163",
   "metadata": {
    "papermill": {
     "duration": 0.010911,
     "end_time": "2023-04-26T10:13:30.416811",
     "exception": false,
     "start_time": "2023-04-26T10:13:30.405900",
     "status": "completed"
    },
    "tags": []
   },
   "source": [
    "# KNN"
   ]
  },
  {
   "cell_type": "code",
   "execution_count": 14,
   "id": "95dab884",
   "metadata": {
    "execution": {
     "iopub.execute_input": "2023-04-26T10:13:30.439503Z",
     "iopub.status.busy": "2023-04-26T10:13:30.438817Z",
     "iopub.status.idle": "2023-04-26T10:13:30.454584Z",
     "shell.execute_reply": "2023-04-26T10:13:30.452756Z"
    },
    "papermill": {
     "duration": 0.02987,
     "end_time": "2023-04-26T10:13:30.456939",
     "exception": false,
     "start_time": "2023-04-26T10:13:30.427069",
     "status": "completed"
    },
    "tags": []
   },
   "outputs": [
    {
     "name": "stdout",
     "output_type": "stream",
     "text": [
      "[[0.32 0.03 0.01]\n",
      " [0.06 0.27 0.  ]\n",
      " [0.05 0.03 0.23]]\n",
      "0.8215573456079786\n"
     ]
    }
   ],
   "source": [
    "classifire_knn = KNeighborsClassifier(n_neighbors=3)\n",
    "classifire_knn.fit(feature_vectors,ground_truth)\n",
    "predictions = classifire_knn.predict(feature_vectors)\n",
    "confusion_matrix = create_confusion_matrix(ground_truth,predictions,[0,1,2])\n",
    "score = f1_score(y_true=ground_truth,y_pred=predictions,labels=PREDICTION_CLASSES,average='macro')\n",
    "print(confusion_matrix)\n",
    "print(score)"
   ]
  },
  {
   "cell_type": "markdown",
   "id": "4106ea68",
   "metadata": {
    "papermill": {
     "duration": 0.01071,
     "end_time": "2023-04-26T10:13:30.479408",
     "exception": false,
     "start_time": "2023-04-26T10:13:30.468698",
     "status": "completed"
    },
    "tags": []
   },
   "source": [
    "# Ada Boost"
   ]
  },
  {
   "cell_type": "code",
   "execution_count": 15,
   "id": "714310dd",
   "metadata": {
    "execution": {
     "iopub.execute_input": "2023-04-26T10:13:30.502550Z",
     "iopub.status.busy": "2023-04-26T10:13:30.502075Z",
     "iopub.status.idle": "2023-04-26T10:13:30.597379Z",
     "shell.execute_reply": "2023-04-26T10:13:30.595660Z"
    },
    "papermill": {
     "duration": 0.110227,
     "end_time": "2023-04-26T10:13:30.600145",
     "exception": false,
     "start_time": "2023-04-26T10:13:30.489918",
     "status": "completed"
    },
    "tags": []
   },
   "outputs": [
    {
     "name": "stdout",
     "output_type": "stream",
     "text": [
      "[[0.28 0.06 0.02]\n",
      " [0.05 0.27 0.01]\n",
      " [0.04 0.04 0.23]]\n",
      "0.7818564676531512\n"
     ]
    }
   ],
   "source": [
    "from sklearn.ensemble import AdaBoostClassifier\n",
    "classifire_adb = AdaBoostClassifier()\n",
    "classifire_adb.fit(feature_vectors,ground_truth)\n",
    "predictions = classifire_adb.predict(feature_vectors)\n",
    "confusion_matrix = create_confusion_matrix(ground_truth,predictions,[0,1,2])\n",
    "score = f1_score(y_true=ground_truth,y_pred=predictions,labels=PREDICTION_CLASSES,average='macro')\n",
    "print(confusion_matrix)\n",
    "print(score)"
   ]
  },
  {
   "cell_type": "markdown",
   "id": "d1a0990a",
   "metadata": {
    "papermill": {
     "duration": 0.010196,
     "end_time": "2023-04-26T10:13:30.621084",
     "exception": false,
     "start_time": "2023-04-26T10:13:30.610888",
     "status": "completed"
    },
    "tags": []
   },
   "source": [
    "# Gaussian Process"
   ]
  },
  {
   "cell_type": "code",
   "execution_count": 16,
   "id": "c9238e6b",
   "metadata": {
    "execution": {
     "iopub.execute_input": "2023-04-26T10:13:30.644422Z",
     "iopub.status.busy": "2023-04-26T10:13:30.643991Z",
     "iopub.status.idle": "2023-04-26T10:13:30.981426Z",
     "shell.execute_reply": "2023-04-26T10:13:30.979665Z"
    },
    "papermill": {
     "duration": 0.354727,
     "end_time": "2023-04-26T10:13:30.986203",
     "exception": false,
     "start_time": "2023-04-26T10:13:30.631476",
     "status": "completed"
    },
    "tags": []
   },
   "outputs": [
    {
     "name": "stdout",
     "output_type": "stream",
     "text": [
      "[[0.28 0.06 0.02]\n",
      " [0.06 0.23 0.04]\n",
      " [0.06 0.03 0.22]]\n",
      "0.730099041606624\n"
     ]
    }
   ],
   "source": [
    "from sklearn.gaussian_process import GaussianProcessClassifier\n",
    "from sklearn.gaussian_process.kernels import RBF\n",
    "classifire_gau = GaussianProcessClassifier(1.0 * RBF(1.0))\n",
    "classifire_gau.fit(feature_vectors,ground_truth)\n",
    "predictions = classifire_gau.predict(feature_vectors)\n",
    "confusion_matrix = create_confusion_matrix(ground_truth,predictions,[0,1,2])\n",
    "score = f1_score(y_true=ground_truth,y_pred=predictions,labels=PREDICTION_CLASSES,average='macro')\n",
    "print(confusion_matrix)\n",
    "print(score)"
   ]
  },
  {
   "cell_type": "markdown",
   "id": "4a7a5edf",
   "metadata": {
    "papermill": {
     "duration": 0.027996,
     "end_time": "2023-04-26T10:13:31.041879",
     "exception": false,
     "start_time": "2023-04-26T10:13:31.013883",
     "status": "completed"
    },
    "tags": []
   },
   "source": [
    "# sklearn neuralnet"
   ]
  },
  {
   "cell_type": "code",
   "execution_count": 17,
   "id": "fb7feddd",
   "metadata": {
    "execution": {
     "iopub.execute_input": "2023-04-26T10:13:31.097478Z",
     "iopub.status.busy": "2023-04-26T10:13:31.097026Z",
     "iopub.status.idle": "2023-04-26T10:13:33.618079Z",
     "shell.execute_reply": "2023-04-26T10:13:33.616190Z"
    },
    "papermill": {
     "duration": 2.552593,
     "end_time": "2023-04-26T10:13:33.622605",
     "exception": false,
     "start_time": "2023-04-26T10:13:31.070012",
     "status": "completed"
    },
    "tags": []
   },
   "outputs": [
    {
     "name": "stdout",
     "output_type": "stream",
     "text": [
      "[[0.36 0.   0.  ]\n",
      " [0.   0.33 0.  ]\n",
      " [0.02 0.01 0.28]]\n",
      "0.9690667140705086\n"
     ]
    }
   ],
   "source": [
    "from sklearn.neural_network import MLPClassifier\n",
    "classifire_nn = MLPClassifier(hidden_layer_sizes=(100,100,100),alpha=1, max_iter=1000)\n",
    "classifire_nn.fit(feature_vectors,ground_truth)\n",
    "predictions = classifire_nn.predict(feature_vectors)\n",
    "confusion_matrix = create_confusion_matrix(ground_truth,predictions,[0,1,2])\n",
    "score = f1_score(y_true=ground_truth,y_pred=predictions,labels=PREDICTION_CLASSES,average='macro')\n",
    "print(confusion_matrix)\n",
    "print(score)"
   ]
  },
  {
   "cell_type": "markdown",
   "id": "fa2eaf4d",
   "metadata": {
    "papermill": {
     "duration": 0.026773,
     "end_time": "2023-04-26T10:13:33.678313",
     "exception": false,
     "start_time": "2023-04-26T10:13:33.651540",
     "status": "completed"
    },
    "tags": []
   },
   "source": [
    "# Decision Tree"
   ]
  },
  {
   "cell_type": "code",
   "execution_count": 18,
   "id": "6dbafc97",
   "metadata": {
    "execution": {
     "iopub.execute_input": "2023-04-26T10:13:33.733520Z",
     "iopub.status.busy": "2023-04-26T10:13:33.733061Z",
     "iopub.status.idle": "2023-04-26T10:13:33.743996Z",
     "shell.execute_reply": "2023-04-26T10:13:33.742653Z"
    },
    "papermill": {
     "duration": 0.040936,
     "end_time": "2023-04-26T10:13:33.746685",
     "exception": false,
     "start_time": "2023-04-26T10:13:33.705749",
     "status": "completed"
    },
    "tags": []
   },
   "outputs": [
    {
     "name": "stdout",
     "output_type": "stream",
     "text": [
      "[[0.36 0.   0.  ]\n",
      " [0.   0.33 0.  ]\n",
      " [0.   0.   0.31]]\n",
      "1.0\n"
     ]
    }
   ],
   "source": [
    "classifire_tree = DecisionTreeClassifier()\n",
    "classifire_tree.fit(feature_vectors,ground_truth)\n",
    "predictions = classifire_tree.predict(feature_vectors)\n",
    "confusion_matrix = create_confusion_matrix(ground_truth,predictions,[0,1,2])\n",
    "score = f1_score(y_true=ground_truth,y_pred=predictions,labels=PREDICTION_CLASSES,average='macro')\n",
    "print(confusion_matrix)\n",
    "print(score)"
   ]
  },
  {
   "cell_type": "code",
   "execution_count": 19,
   "id": "f8d532ec",
   "metadata": {
    "execution": {
     "iopub.execute_input": "2023-04-26T10:13:33.770324Z",
     "iopub.status.busy": "2023-04-26T10:13:33.769629Z",
     "iopub.status.idle": "2023-04-26T10:13:33.938875Z",
     "shell.execute_reply": "2023-04-26T10:13:33.937559Z"
    },
    "papermill": {
     "duration": 0.184748,
     "end_time": "2023-04-26T10:13:33.942008",
     "exception": false,
     "start_time": "2023-04-26T10:13:33.757260",
     "status": "completed"
    },
    "tags": []
   },
   "outputs": [
    {
     "name": "stdout",
     "output_type": "stream",
     "text": [
      "[[0.36 0.   0.  ]\n",
      " [0.   0.33 0.  ]\n",
      " [0.   0.   0.31]]\n",
      "1.0\n"
     ]
    }
   ],
   "source": [
    "classifire_forest = RandomForestClassifier()\n",
    "classifire_forest.fit(feature_vectors,ground_truth)\n",
    "predictions = classifire_forest.predict(feature_vectors)\n",
    "confusion_matrix = create_confusion_matrix(ground_truth,predictions,[0,1,2])\n",
    "score = f1_score(y_true=ground_truth,y_pred=predictions,labels=PREDICTION_CLASSES,average='macro')\n",
    "print(confusion_matrix)\n",
    "print(score)"
   ]
  },
  {
   "cell_type": "markdown",
   "id": "8bc63da1",
   "metadata": {
    "papermill": {
     "duration": 0.01121,
     "end_time": "2023-04-26T10:13:33.963984",
     "exception": false,
     "start_time": "2023-04-26T10:13:33.952774",
     "status": "completed"
    },
    "tags": []
   },
   "source": [
    "# Evaluvating the test data set"
   ]
  },
  {
   "cell_type": "code",
   "execution_count": 20,
   "id": "662bd809",
   "metadata": {
    "execution": {
     "iopub.execute_input": "2023-04-26T10:13:33.988171Z",
     "iopub.status.busy": "2023-04-26T10:13:33.987762Z",
     "iopub.status.idle": "2023-04-26T10:13:34.004013Z",
     "shell.execute_reply": "2023-04-26T10:13:34.002802Z"
    },
    "papermill": {
     "duration": 0.031712,
     "end_time": "2023-04-26T10:13:34.006448",
     "exception": false,
     "start_time": "2023-04-26T10:13:33.974736",
     "status": "completed"
    },
    "tags": []
   },
   "outputs": [
    {
     "data": {
      "text/html": [
       "<div>\n",
       "<style scoped>\n",
       "    .dataframe tbody tr th:only-of-type {\n",
       "        vertical-align: middle;\n",
       "    }\n",
       "\n",
       "    .dataframe tbody tr th {\n",
       "        vertical-align: top;\n",
       "    }\n",
       "\n",
       "    .dataframe thead th {\n",
       "        text-align: right;\n",
       "    }\n",
       "</style>\n",
       "<table border=\"1\" class=\"dataframe\">\n",
       "  <thead>\n",
       "    <tr style=\"text-align: right;\">\n",
       "      <th></th>\n",
       "      <th>shop_id</th>\n",
       "      <th>area</th>\n",
       "      <th>income</th>\n",
       "      <th>quantity</th>\n",
       "      <th>product_diversity</th>\n",
       "      <th>customer_diversity</th>\n",
       "      <th>profile</th>\n",
       "      <th>income_per_area</th>\n",
       "      <th>quantity_per_area</th>\n",
       "      <th>products_per_area</th>\n",
       "      <th>number_of_transactions</th>\n",
       "    </tr>\n",
       "  </thead>\n",
       "  <tbody>\n",
       "    <tr>\n",
       "      <th>100</th>\n",
       "      <td>SHOP046</td>\n",
       "      <td>545</td>\n",
       "      <td>2607865</td>\n",
       "      <td>6941</td>\n",
       "      <td>36</td>\n",
       "      <td>1736</td>\n",
       "      <td>NaN</td>\n",
       "      <td>4785.073394</td>\n",
       "      <td>12.735780</td>\n",
       "      <td>0.066055</td>\n",
       "      <td>6.308257</td>\n",
       "    </tr>\n",
       "    <tr>\n",
       "      <th>101</th>\n",
       "      <td>SHOP024</td>\n",
       "      <td>676</td>\n",
       "      <td>1308795</td>\n",
       "      <td>5274</td>\n",
       "      <td>36</td>\n",
       "      <td>1641</td>\n",
       "      <td>NaN</td>\n",
       "      <td>1936.087278</td>\n",
       "      <td>7.801775</td>\n",
       "      <td>0.053254</td>\n",
       "      <td>4.264793</td>\n",
       "    </tr>\n",
       "    <tr>\n",
       "      <th>102</th>\n",
       "      <td>SHOP023</td>\n",
       "      <td>617</td>\n",
       "      <td>2570425</td>\n",
       "      <td>7946</td>\n",
       "      <td>37</td>\n",
       "      <td>2227</td>\n",
       "      <td>NaN</td>\n",
       "      <td>4166.004862</td>\n",
       "      <td>12.878444</td>\n",
       "      <td>0.059968</td>\n",
       "      <td>6.649919</td>\n",
       "    </tr>\n",
       "    <tr>\n",
       "      <th>103</th>\n",
       "      <td>SHOP097</td>\n",
       "      <td>310</td>\n",
       "      <td>2642380</td>\n",
       "      <td>6934</td>\n",
       "      <td>32</td>\n",
       "      <td>1669</td>\n",
       "      <td>NaN</td>\n",
       "      <td>8523.806452</td>\n",
       "      <td>22.367742</td>\n",
       "      <td>0.103226</td>\n",
       "      <td>10.154839</td>\n",
       "    </tr>\n",
       "    <tr>\n",
       "      <th>104</th>\n",
       "      <td>SHOP044</td>\n",
       "      <td>715</td>\n",
       "      <td>1310440</td>\n",
       "      <td>4965</td>\n",
       "      <td>36</td>\n",
       "      <td>1552</td>\n",
       "      <td>NaN</td>\n",
       "      <td>1832.783217</td>\n",
       "      <td>6.944056</td>\n",
       "      <td>0.050350</td>\n",
       "      <td>3.693706</td>\n",
       "    </tr>\n",
       "  </tbody>\n",
       "</table>\n",
       "</div>"
      ],
      "text/plain": [
       "     shop_id  area   income  quantity  product_diversity  customer_diversity  \\\n",
       "100  SHOP046   545  2607865      6941                 36                1736   \n",
       "101  SHOP024   676  1308795      5274                 36                1641   \n",
       "102  SHOP023   617  2570425      7946                 37                2227   \n",
       "103  SHOP097   310  2642380      6934                 32                1669   \n",
       "104  SHOP044   715  1310440      4965                 36                1552   \n",
       "\n",
       "    profile  income_per_area  quantity_per_area  products_per_area  \\\n",
       "100     NaN      4785.073394          12.735780           0.066055   \n",
       "101     NaN      1936.087278           7.801775           0.053254   \n",
       "102     NaN      4166.004862          12.878444           0.059968   \n",
       "103     NaN      8523.806452          22.367742           0.103226   \n",
       "104     NaN      1832.783217           6.944056           0.050350   \n",
       "\n",
       "     number_of_transactions  \n",
       "100                6.308257  \n",
       "101                4.264793  \n",
       "102                6.649919  \n",
       "103               10.154839  \n",
       "104                3.693706  "
      ]
     },
     "execution_count": 20,
     "metadata": {},
     "output_type": "execute_result"
    }
   ],
   "source": [
    "testing_data.head()"
   ]
  },
  {
   "cell_type": "code",
   "execution_count": 21,
   "id": "26486938",
   "metadata": {
    "execution": {
     "iopub.execute_input": "2023-04-26T10:13:34.030264Z",
     "iopub.status.busy": "2023-04-26T10:13:34.029873Z",
     "iopub.status.idle": "2023-04-26T10:13:34.268513Z",
     "shell.execute_reply": "2023-04-26T10:13:34.267076Z"
    },
    "papermill": {
     "duration": 0.253655,
     "end_time": "2023-04-26T10:13:34.271006",
     "exception": false,
     "start_time": "2023-04-26T10:13:34.017351",
     "status": "completed"
    },
    "tags": []
   },
   "outputs": [
    {
     "data": {
      "text/html": [
       "<div>\n",
       "<style scoped>\n",
       "    .dataframe tbody tr th:only-of-type {\n",
       "        vertical-align: middle;\n",
       "    }\n",
       "\n",
       "    .dataframe tbody tr th {\n",
       "        vertical-align: top;\n",
       "    }\n",
       "\n",
       "    .dataframe thead th {\n",
       "        text-align: right;\n",
       "    }\n",
       "</style>\n",
       "<table border=\"1\" class=\"dataframe\">\n",
       "  <thead>\n",
       "    <tr style=\"text-align: right;\">\n",
       "      <th></th>\n",
       "      <th>shop_id</th>\n",
       "      <th>area</th>\n",
       "      <th>income</th>\n",
       "      <th>quantity</th>\n",
       "      <th>product_diversity</th>\n",
       "      <th>customer_diversity</th>\n",
       "      <th>profile</th>\n",
       "      <th>income_per_area</th>\n",
       "      <th>quantity_per_area</th>\n",
       "      <th>products_per_area</th>\n",
       "      <th>number_of_transactions</th>\n",
       "    </tr>\n",
       "  </thead>\n",
       "  <tbody>\n",
       "    <tr>\n",
       "      <th>100</th>\n",
       "      <td>SHOP046</td>\n",
       "      <td>545</td>\n",
       "      <td>2607865</td>\n",
       "      <td>6941</td>\n",
       "      <td>36</td>\n",
       "      <td>1736</td>\n",
       "      <td>Moderate</td>\n",
       "      <td>4785.073394</td>\n",
       "      <td>12.735780</td>\n",
       "      <td>0.066055</td>\n",
       "      <td>6.308257</td>\n",
       "    </tr>\n",
       "    <tr>\n",
       "      <th>101</th>\n",
       "      <td>SHOP024</td>\n",
       "      <td>676</td>\n",
       "      <td>1308795</td>\n",
       "      <td>5274</td>\n",
       "      <td>36</td>\n",
       "      <td>1641</td>\n",
       "      <td>Low</td>\n",
       "      <td>1936.087278</td>\n",
       "      <td>7.801775</td>\n",
       "      <td>0.053254</td>\n",
       "      <td>4.264793</td>\n",
       "    </tr>\n",
       "    <tr>\n",
       "      <th>102</th>\n",
       "      <td>SHOP023</td>\n",
       "      <td>617</td>\n",
       "      <td>2570425</td>\n",
       "      <td>7946</td>\n",
       "      <td>37</td>\n",
       "      <td>2227</td>\n",
       "      <td>Low</td>\n",
       "      <td>4166.004862</td>\n",
       "      <td>12.878444</td>\n",
       "      <td>0.059968</td>\n",
       "      <td>6.649919</td>\n",
       "    </tr>\n",
       "    <tr>\n",
       "      <th>103</th>\n",
       "      <td>SHOP097</td>\n",
       "      <td>310</td>\n",
       "      <td>2642380</td>\n",
       "      <td>6934</td>\n",
       "      <td>32</td>\n",
       "      <td>1669</td>\n",
       "      <td>Moderate</td>\n",
       "      <td>8523.806452</td>\n",
       "      <td>22.367742</td>\n",
       "      <td>0.103226</td>\n",
       "      <td>10.154839</td>\n",
       "    </tr>\n",
       "    <tr>\n",
       "      <th>104</th>\n",
       "      <td>SHOP044</td>\n",
       "      <td>715</td>\n",
       "      <td>1310440</td>\n",
       "      <td>4965</td>\n",
       "      <td>36</td>\n",
       "      <td>1552</td>\n",
       "      <td>Moderate</td>\n",
       "      <td>1832.783217</td>\n",
       "      <td>6.944056</td>\n",
       "      <td>0.050350</td>\n",
       "      <td>3.693706</td>\n",
       "    </tr>\n",
       "    <tr>\n",
       "      <th>105</th>\n",
       "      <td>SHOP030</td>\n",
       "      <td>530</td>\n",
       "      <td>2862995</td>\n",
       "      <td>7687</td>\n",
       "      <td>36</td>\n",
       "      <td>1637</td>\n",
       "      <td>Moderate</td>\n",
       "      <td>5401.877358</td>\n",
       "      <td>14.503774</td>\n",
       "      <td>0.067925</td>\n",
       "      <td>6.822642</td>\n",
       "    </tr>\n",
       "    <tr>\n",
       "      <th>106</th>\n",
       "      <td>SHOP038</td>\n",
       "      <td>411</td>\n",
       "      <td>1444025</td>\n",
       "      <td>5728</td>\n",
       "      <td>32</td>\n",
       "      <td>1781</td>\n",
       "      <td>Low</td>\n",
       "      <td>3513.442822</td>\n",
       "      <td>13.936740</td>\n",
       "      <td>0.077859</td>\n",
       "      <td>7.630170</td>\n",
       "    </tr>\n",
       "    <tr>\n",
       "      <th>107</th>\n",
       "      <td>SHOP029</td>\n",
       "      <td>597</td>\n",
       "      <td>1973805</td>\n",
       "      <td>7352</td>\n",
       "      <td>36</td>\n",
       "      <td>2052</td>\n",
       "      <td>Low</td>\n",
       "      <td>3306.206030</td>\n",
       "      <td>12.314908</td>\n",
       "      <td>0.060302</td>\n",
       "      <td>6.363484</td>\n",
       "    </tr>\n",
       "    <tr>\n",
       "      <th>108</th>\n",
       "      <td>SHOP096</td>\n",
       "      <td>676</td>\n",
       "      <td>2600915</td>\n",
       "      <td>9049</td>\n",
       "      <td>36</td>\n",
       "      <td>2497</td>\n",
       "      <td>High</td>\n",
       "      <td>3847.507396</td>\n",
       "      <td>13.386095</td>\n",
       "      <td>0.053254</td>\n",
       "      <td>7.100592</td>\n",
       "    </tr>\n",
       "    <tr>\n",
       "      <th>109</th>\n",
       "      <td>SHOP092</td>\n",
       "      <td>617</td>\n",
       "      <td>1961240</td>\n",
       "      <td>7266</td>\n",
       "      <td>36</td>\n",
       "      <td>2247</td>\n",
       "      <td>Low</td>\n",
       "      <td>3178.670989</td>\n",
       "      <td>11.776337</td>\n",
       "      <td>0.058347</td>\n",
       "      <td>6.343598</td>\n",
       "    </tr>\n",
       "    <tr>\n",
       "      <th>110</th>\n",
       "      <td>SHOP081</td>\n",
       "      <td>774</td>\n",
       "      <td>2067720</td>\n",
       "      <td>6704</td>\n",
       "      <td>36</td>\n",
       "      <td>1985</td>\n",
       "      <td>High</td>\n",
       "      <td>2671.472868</td>\n",
       "      <td>8.661499</td>\n",
       "      <td>0.046512</td>\n",
       "      <td>4.303618</td>\n",
       "    </tr>\n",
       "    <tr>\n",
       "      <th>111</th>\n",
       "      <td>SHOP076</td>\n",
       "      <td>676</td>\n",
       "      <td>2276575</td>\n",
       "      <td>7150</td>\n",
       "      <td>36</td>\n",
       "      <td>1992</td>\n",
       "      <td>Low</td>\n",
       "      <td>3367.714497</td>\n",
       "      <td>10.576923</td>\n",
       "      <td>0.053254</td>\n",
       "      <td>5.470414</td>\n",
       "    </tr>\n",
       "    <tr>\n",
       "      <th>112</th>\n",
       "      <td>SHOP080</td>\n",
       "      <td>554</td>\n",
       "      <td>1322790</td>\n",
       "      <td>4581</td>\n",
       "      <td>36</td>\n",
       "      <td>1268</td>\n",
       "      <td>Low</td>\n",
       "      <td>2387.707581</td>\n",
       "      <td>8.268953</td>\n",
       "      <td>0.064982</td>\n",
       "      <td>4.245487</td>\n",
       "    </tr>\n",
       "    <tr>\n",
       "      <th>113</th>\n",
       "      <td>SHOP074</td>\n",
       "      <td>617</td>\n",
       "      <td>2608740</td>\n",
       "      <td>9525</td>\n",
       "      <td>36</td>\n",
       "      <td>2738</td>\n",
       "      <td>Low</td>\n",
       "      <td>4228.103728</td>\n",
       "      <td>15.437601</td>\n",
       "      <td>0.058347</td>\n",
       "      <td>8.398703</td>\n",
       "    </tr>\n",
       "    <tr>\n",
       "      <th>114</th>\n",
       "      <td>SHOP107</td>\n",
       "      <td>588</td>\n",
       "      <td>2565235</td>\n",
       "      <td>4827</td>\n",
       "      <td>37</td>\n",
       "      <td>921</td>\n",
       "      <td>Moderate</td>\n",
       "      <td>4362.644558</td>\n",
       "      <td>8.209184</td>\n",
       "      <td>0.062925</td>\n",
       "      <td>3.336735</td>\n",
       "    </tr>\n",
       "    <tr>\n",
       "      <th>115</th>\n",
       "      <td>SHOP108</td>\n",
       "      <td>676</td>\n",
       "      <td>2100715</td>\n",
       "      <td>7517</td>\n",
       "      <td>36</td>\n",
       "      <td>2077</td>\n",
       "      <td>Low</td>\n",
       "      <td>3107.566568</td>\n",
       "      <td>11.119822</td>\n",
       "      <td>0.053254</td>\n",
       "      <td>6.011834</td>\n",
       "    </tr>\n",
       "    <tr>\n",
       "      <th>116</th>\n",
       "      <td>SHOP019</td>\n",
       "      <td>411</td>\n",
       "      <td>2200580</td>\n",
       "      <td>7173</td>\n",
       "      <td>32</td>\n",
       "      <td>1922</td>\n",
       "      <td>High</td>\n",
       "      <td>5354.209246</td>\n",
       "      <td>17.452555</td>\n",
       "      <td>0.077859</td>\n",
       "      <td>9.163017</td>\n",
       "    </tr>\n",
       "    <tr>\n",
       "      <th>117</th>\n",
       "      <td>SHOP002</td>\n",
       "      <td>637</td>\n",
       "      <td>3084455</td>\n",
       "      <td>9568</td>\n",
       "      <td>36</td>\n",
       "      <td>2577</td>\n",
       "      <td>Moderate</td>\n",
       "      <td>4842.158556</td>\n",
       "      <td>15.020408</td>\n",
       "      <td>0.056515</td>\n",
       "      <td>7.535322</td>\n",
       "    </tr>\n",
       "    <tr>\n",
       "      <th>118</th>\n",
       "      <td>SHOP114</td>\n",
       "      <td>513</td>\n",
       "      <td>2131345</td>\n",
       "      <td>8014</td>\n",
       "      <td>37</td>\n",
       "      <td>2480</td>\n",
       "      <td>Low</td>\n",
       "      <td>4154.668616</td>\n",
       "      <td>15.621832</td>\n",
       "      <td>0.072125</td>\n",
       "      <td>8.502924</td>\n",
       "    </tr>\n",
       "    <tr>\n",
       "      <th>119</th>\n",
       "      <td>SHOP087</td>\n",
       "      <td>527</td>\n",
       "      <td>1128935</td>\n",
       "      <td>3750</td>\n",
       "      <td>36</td>\n",
       "      <td>1083</td>\n",
       "      <td>Low</td>\n",
       "      <td>2142.191651</td>\n",
       "      <td>7.115750</td>\n",
       "      <td>0.068311</td>\n",
       "      <td>3.855787</td>\n",
       "    </tr>\n",
       "    <tr>\n",
       "      <th>120</th>\n",
       "      <td>SHOP050</td>\n",
       "      <td>411</td>\n",
       "      <td>2399125</td>\n",
       "      <td>7668</td>\n",
       "      <td>32</td>\n",
       "      <td>1778</td>\n",
       "      <td>Moderate</td>\n",
       "      <td>5837.287105</td>\n",
       "      <td>18.656934</td>\n",
       "      <td>0.077859</td>\n",
       "      <td>9.559611</td>\n",
       "    </tr>\n",
       "    <tr>\n",
       "      <th>121</th>\n",
       "      <td>SHOP061</td>\n",
       "      <td>699</td>\n",
       "      <td>2110800</td>\n",
       "      <td>6053</td>\n",
       "      <td>36</td>\n",
       "      <td>1746</td>\n",
       "      <td>High</td>\n",
       "      <td>3019.742489</td>\n",
       "      <td>8.659514</td>\n",
       "      <td>0.051502</td>\n",
       "      <td>4.464950</td>\n",
       "    </tr>\n",
       "    <tr>\n",
       "      <th>122</th>\n",
       "      <td>SHOP056</td>\n",
       "      <td>597</td>\n",
       "      <td>3023805</td>\n",
       "      <td>11163</td>\n",
       "      <td>36</td>\n",
       "      <td>2832</td>\n",
       "      <td>High</td>\n",
       "      <td>5065.000000</td>\n",
       "      <td>18.698492</td>\n",
       "      <td>0.060302</td>\n",
       "      <td>9.651591</td>\n",
       "    </tr>\n",
       "    <tr>\n",
       "      <th>123</th>\n",
       "      <td>SHOP070</td>\n",
       "      <td>676</td>\n",
       "      <td>1325070</td>\n",
       "      <td>5028</td>\n",
       "      <td>37</td>\n",
       "      <td>1423</td>\n",
       "      <td>Moderate</td>\n",
       "      <td>1960.162722</td>\n",
       "      <td>7.437870</td>\n",
       "      <td>0.054734</td>\n",
       "      <td>4.133136</td>\n",
       "    </tr>\n",
       "  </tbody>\n",
       "</table>\n",
       "</div>"
      ],
      "text/plain": [
       "     shop_id  area   income  quantity  product_diversity  customer_diversity  \\\n",
       "100  SHOP046   545  2607865      6941                 36                1736   \n",
       "101  SHOP024   676  1308795      5274                 36                1641   \n",
       "102  SHOP023   617  2570425      7946                 37                2227   \n",
       "103  SHOP097   310  2642380      6934                 32                1669   \n",
       "104  SHOP044   715  1310440      4965                 36                1552   \n",
       "105  SHOP030   530  2862995      7687                 36                1637   \n",
       "106  SHOP038   411  1444025      5728                 32                1781   \n",
       "107  SHOP029   597  1973805      7352                 36                2052   \n",
       "108  SHOP096   676  2600915      9049                 36                2497   \n",
       "109  SHOP092   617  1961240      7266                 36                2247   \n",
       "110  SHOP081   774  2067720      6704                 36                1985   \n",
       "111  SHOP076   676  2276575      7150                 36                1992   \n",
       "112  SHOP080   554  1322790      4581                 36                1268   \n",
       "113  SHOP074   617  2608740      9525                 36                2738   \n",
       "114  SHOP107   588  2565235      4827                 37                 921   \n",
       "115  SHOP108   676  2100715      7517                 36                2077   \n",
       "116  SHOP019   411  2200580      7173                 32                1922   \n",
       "117  SHOP002   637  3084455      9568                 36                2577   \n",
       "118  SHOP114   513  2131345      8014                 37                2480   \n",
       "119  SHOP087   527  1128935      3750                 36                1083   \n",
       "120  SHOP050   411  2399125      7668                 32                1778   \n",
       "121  SHOP061   699  2110800      6053                 36                1746   \n",
       "122  SHOP056   597  3023805     11163                 36                2832   \n",
       "123  SHOP070   676  1325070      5028                 37                1423   \n",
       "\n",
       "      profile  income_per_area  quantity_per_area  products_per_area  \\\n",
       "100  Moderate      4785.073394          12.735780           0.066055   \n",
       "101       Low      1936.087278           7.801775           0.053254   \n",
       "102       Low      4166.004862          12.878444           0.059968   \n",
       "103  Moderate      8523.806452          22.367742           0.103226   \n",
       "104  Moderate      1832.783217           6.944056           0.050350   \n",
       "105  Moderate      5401.877358          14.503774           0.067925   \n",
       "106       Low      3513.442822          13.936740           0.077859   \n",
       "107       Low      3306.206030          12.314908           0.060302   \n",
       "108      High      3847.507396          13.386095           0.053254   \n",
       "109       Low      3178.670989          11.776337           0.058347   \n",
       "110      High      2671.472868           8.661499           0.046512   \n",
       "111       Low      3367.714497          10.576923           0.053254   \n",
       "112       Low      2387.707581           8.268953           0.064982   \n",
       "113       Low      4228.103728          15.437601           0.058347   \n",
       "114  Moderate      4362.644558           8.209184           0.062925   \n",
       "115       Low      3107.566568          11.119822           0.053254   \n",
       "116      High      5354.209246          17.452555           0.077859   \n",
       "117  Moderate      4842.158556          15.020408           0.056515   \n",
       "118       Low      4154.668616          15.621832           0.072125   \n",
       "119       Low      2142.191651           7.115750           0.068311   \n",
       "120  Moderate      5837.287105          18.656934           0.077859   \n",
       "121      High      3019.742489           8.659514           0.051502   \n",
       "122      High      5065.000000          18.698492           0.060302   \n",
       "123  Moderate      1960.162722           7.437870           0.054734   \n",
       "\n",
       "     number_of_transactions  \n",
       "100                6.308257  \n",
       "101                4.264793  \n",
       "102                6.649919  \n",
       "103               10.154839  \n",
       "104                3.693706  \n",
       "105                6.822642  \n",
       "106                7.630170  \n",
       "107                6.363484  \n",
       "108                7.100592  \n",
       "109                6.343598  \n",
       "110                4.303618  \n",
       "111                5.470414  \n",
       "112                4.245487  \n",
       "113                8.398703  \n",
       "114                3.336735  \n",
       "115                6.011834  \n",
       "116                9.163017  \n",
       "117                7.535322  \n",
       "118                8.502924  \n",
       "119                3.855787  \n",
       "120                9.559611  \n",
       "121                4.464950  \n",
       "122                9.651591  \n",
       "123                4.133136  "
      ]
     },
     "execution_count": 21,
     "metadata": {},
     "output_type": "execute_result"
    },
    {
     "data": {
      "image/png": "[encoded data removed]",
      "text/plain": [
       "<Figure size 640x480 with 1 Axes>"
      ]
     },
     "metadata": {},
     "output_type": "display_data"
    }
   ],
   "source": [
    "data = testing_data.copy()\n",
    "# data= training_data.head()\n",
    "test_feature_vectors,normalization_parameters,_ = create_feature_vectors(df=data,features=(AREA,PRODUCT_DIVERSITY,CUSTOMER_DIVERSITY,INCOME_PER_AREA),prediction_name=None,normalize=True,normalization_parameters=normalization_parameters)\n",
    "profile_predictions =classifire_nn.predict(test_feature_vectors)\n",
    "copy_testing = testing.copy()\n",
    "copy_testing['shop_profile'] = list(map(iprofile_to_sprofile,profile_predictions,))\n",
    "copy_testing['shop_profile'].hist()\n",
    "data['profile']=copy_testing['shop_profile'].rename(index=lambda x : x+100)\n",
    "plt.plot()\n",
    "copy_testing\n",
    "data"
   ]
  },
  {
   "cell_type": "code",
   "execution_count": 22,
   "id": "2be04da1",
   "metadata": {
    "execution": {
     "iopub.execute_input": "2023-04-26T10:13:34.296351Z",
     "iopub.status.busy": "2023-04-26T10:13:34.295963Z",
     "iopub.status.idle": "2023-04-26T10:13:34.306453Z",
     "shell.execute_reply": "2023-04-26T10:13:34.305376Z"
    },
    "papermill": {
     "duration": 0.026504,
     "end_time": "2023-04-26T10:13:34.309186",
     "exception": false,
     "start_time": "2023-04-26T10:13:34.282682",
     "status": "completed"
    },
    "tags": []
   },
   "outputs": [],
   "source": [
    "copy_testing.to_csv(\"/kaggle/working/per_area_feautures_forest_2_predictions.csv\",index=False)"
   ]
  },
  {
   "cell_type": "code",
   "execution_count": 23,
   "id": "5f056479",
   "metadata": {
    "execution": {
     "iopub.execute_input": "2023-04-26T10:13:34.335129Z",
     "iopub.status.busy": "2023-04-26T10:13:34.334733Z",
     "iopub.status.idle": "2023-04-26T10:13:34.770420Z",
     "shell.execute_reply": "2023-04-26T10:13:34.769029Z"
    },
    "papermill": {
     "duration": 0.45252,
     "end_time": "2023-04-26T10:13:34.773557",
     "exception": false,
     "start_time": "2023-04-26T10:13:34.321037",
     "status": "completed"
    },
    "tags": []
   },
   "outputs": [
    {
     "data": {
      "image/png": "[encoded data removed]",
      "text/plain": [
       "<Figure size 640x480 with 1 Axes>"
      ]
     },
     "metadata": {},
     "output_type": "display_data"
    }
   ],
   "source": [
    "from sklearn.decomposition import PCA\n",
    "redu = PCA(n_components=2)\n",
    "redu.fit(feature_vectors)\n",
    "dmrf = redu.transform(feature_vectors)\n",
    "lfv,_,_ = create_feature_vectors(df=low_data,features=(AREA,PRODUCT_DIVERSITY,CUSTOMER_DIVERSITY,INCOME_PER_AREA),prediction_name=None,normalize=True,normalization_parameters=normalization_parameters)\n",
    "mfv,_,_ = create_feature_vectors(df=moderate_data,features=(AREA,PRODUCT_DIVERSITY,CUSTOMER_DIVERSITY,INCOME_PER_AREA),prediction_name=None,normalize=True,normalization_parameters=normalization_parameters)\n",
    "hfv,_,_ = create_feature_vectors(df=high_data,features=(AREA,PRODUCT_DIVERSITY,CUSTOMER_DIVERSITY,INCOME_PER_AREA),prediction_name=None,normalize=True,normalization_parameters=normalization_parameters)\n",
    "rlfv = redu.transform(lfv)\n",
    "rmfv = redu.transform(mfv)\n",
    "rhfv = redu.transform(hfv)\n",
    "rtfv = redu.transform(test_feature_vectors)\n",
    "tlfv,_,_ = create_feature_vectors(df=data[data['profile']==\"Low\"],features=(AREA,PRODUCT_DIVERSITY,CUSTOMER_DIVERSITY,INCOME_PER_AREA),prediction_name=None,normalize=True,normalization_parameters=normalization_parameters)\n",
    "tmfv,_,_ = create_feature_vectors(df=data[data['profile']==\"Moderate\"],features=(AREA,PRODUCT_DIVERSITY,CUSTOMER_DIVERSITY,INCOME_PER_AREA),prediction_name=None,normalize=True,normalization_parameters=normalization_parameters)\n",
    "thfv,_,_ = create_feature_vectors(df=data[data['profile']==\"High\"],features=(AREA,PRODUCT_DIVERSITY,CUSTOMER_DIVERSITY,INCOME_PER_AREA),prediction_name=None,normalize=True,normalization_parameters=normalization_parameters)\n",
    "trlfv = redu.transform(tlfv)\n",
    "trmfv = redu.transform(tmfv)\n",
    "trhfv = redu.transform(thfv)\n",
    "plt.scatter(dmrf[:,0],dmrf[:,1],label=\"all\")\n",
    "plt.scatter(rlfv[:,0],rlfv[:,1],label=\"low\")\n",
    "plt.scatter(rmfv[:,0],rmfv[:,1],label=\"moderate\")\n",
    "plt.scatter(rhfv[:,0],rhfv[:,1],label=\"high\")\n",
    "plt.scatter(rtfv[:,0],rtfv[:,1],label=\"test\")\n",
    "plt.scatter(trlfv[:,0],trlfv[:,1],label=\"t_low\")\n",
    "plt.scatter(trmfv[:,0],trmfv[:,1],label=\"t_moderate\")\n",
    "plt.scatter(trhfv[:,0],trhfv[:,1],label=\"t_high\")\n",
    "plt.legend()\n",
    "# plt.xlim(-6,  6)\n",
    "# plt.ylim(-6, 6)\n",
    "plt.show()\n",
    "plt.show()"
   ]
  },
  {
   "cell_type": "code",
   "execution_count": 24,
   "id": "96dd9134",
   "metadata": {
    "execution": {
     "iopub.execute_input": "2023-04-26T10:13:34.800649Z",
     "iopub.status.busy": "2023-04-26T10:13:34.800122Z",
     "iopub.status.idle": "2023-04-26T10:13:35.249899Z",
     "shell.execute_reply": "2023-04-26T10:13:35.248553Z"
    },
    "papermill": {
     "duration": 0.467083,
     "end_time": "2023-04-26T10:13:35.253115",
     "exception": false,
     "start_time": "2023-04-26T10:13:34.786032",
     "status": "completed"
    },
    "tags": []
   },
   "outputs": [
    {
     "data": {
      "image/png": "[encoded data removed]",
      "text/plain": [
       "<Figure size 640x480 with 1 Axes>"
      ]
     },
     "metadata": {},
     "output_type": "display_data"
    }
   ],
   "source": [
    "from sklearn.discriminant_analysis import LinearDiscriminantAnalysis\n",
    "redu = LinearDiscriminantAnalysis()\n",
    "redu.fit(feature_vectors,predictions)\n",
    "dmrf = redu.transform(feature_vectors)\n",
    "lfv,_,_ = create_feature_vectors(df=low_data,features=(AREA,PRODUCT_DIVERSITY,CUSTOMER_DIVERSITY,INCOME_PER_AREA),prediction_name=None,normalize=True,normalization_parameters=normalization_parameters)\n",
    "mfv,_,_ = create_feature_vectors(df=moderate_data,features=(AREA,PRODUCT_DIVERSITY,CUSTOMER_DIVERSITY,INCOME_PER_AREA),prediction_name=None,normalize=True,normalization_parameters=normalization_parameters)\n",
    "hfv,_,_ = create_feature_vectors(df=high_data,features=(AREA,PRODUCT_DIVERSITY,CUSTOMER_DIVERSITY,INCOME_PER_AREA),prediction_name=None,normalize=True,normalization_parameters=normalization_parameters)\n",
    "rlfv = redu.transform(lfv)\n",
    "rmfv = redu.transform(mfv)\n",
    "rhfv = redu.transform(hfv)\n",
    "rtfv = redu.transform(test_feature_vectors)\n",
    "tlfv,_,_ = create_feature_vectors(df=data[data['profile']==\"Low\"],features=(AREA,PRODUCT_DIVERSITY,CUSTOMER_DIVERSITY,INCOME_PER_AREA),prediction_name=None,normalize=True,normalization_parameters=normalization_parameters)\n",
    "tmfv,_,_ = create_feature_vectors(df=data[data['profile']==\"Moderate\"],features=(AREA,PRODUCT_DIVERSITY,CUSTOMER_DIVERSITY,INCOME_PER_AREA),prediction_name=None,normalize=True,normalization_parameters=normalization_parameters)\n",
    "thfv,_,_ = create_feature_vectors(df=data[data['profile']==\"High\"],features=(AREA,PRODUCT_DIVERSITY,CUSTOMER_DIVERSITY,INCOME_PER_AREA),prediction_name=None,normalize=True,normalization_parameters=normalization_parameters)\n",
    "trlfv = redu.transform(tlfv)\n",
    "trmfv = redu.transform(tmfv)\n",
    "trhfv = redu.transform(thfv)\n",
    "plt.scatter(dmrf[:,0],dmrf[:,1],label=\"all\")\n",
    "plt.scatter(rlfv[:,0],rlfv[:,1],label=\"low\")\n",
    "plt.scatter(rmfv[:,0],rmfv[:,1],label=\"moderate\")\n",
    "plt.scatter(rhfv[:,0],rhfv[:,1],label=\"high\")\n",
    "plt.scatter(rtfv[:,0],rtfv[:,1],label=\"test\")\n",
    "plt.scatter(trlfv[:,0],trlfv[:,1],label=\"t_low\")\n",
    "plt.scatter(trmfv[:,0],trmfv[:,1],label=\"t_moderate\")\n",
    "plt.scatter(trhfv[:,0],trhfv[:,1],label=\"t_high\")\n",
    "plt.legend()\n",
    "# plt.xlim(-6,  6)\n",
    "# plt.ylim(-6, 6)\n",
    "plt.show()\n",
    "plt.show()"
   ]
  },
  {
   "cell_type": "code",
   "execution_count": 25,
   "id": "8c32cc3d",
   "metadata": {
    "execution": {
     "iopub.execute_input": "2023-04-26T10:13:35.281438Z",
     "iopub.status.busy": "2023-04-26T10:13:35.280987Z",
     "iopub.status.idle": "2023-04-26T10:13:35.291336Z",
     "shell.execute_reply": "2023-04-26T10:13:35.289711Z"
    },
    "papermill": {
     "duration": 0.027568,
     "end_time": "2023-04-26T10:13:35.293892",
     "exception": false,
     "start_time": "2023-04-26T10:13:35.266324",
     "status": "completed"
    },
    "tags": []
   },
   "outputs": [
    {
     "name": "stdout",
     "output_type": "stream",
     "text": [
      "[[0.26 0.07 0.03]\n",
      " [0.09 0.19 0.05]\n",
      " [0.05 0.02 0.24]]\n",
      "0.6896887026308942\n"
     ]
    }
   ],
   "source": [
    "predictions = redu.predict(feature_vectors)\n",
    "confusion_matrix = create_confusion_matrix(ground_truth,predictions,[0,1,2])\n",
    "score = f1_score(y_true=ground_truth,y_pred=predictions,labels=PREDICTION_CLASSES,average='macro')\n",
    "print(confusion_matrix)\n",
    "print(score)"
   ]
  }
 ],
 "metadata": {
  "kernelspec": {
   "display_name": "Python 3",
   "language": "python",
   "name": "python3"
  },
  "language_info": {
   "codemirror_mode": {
    "name": "ipython",
    "version": 3
   },
   "file_extension": ".py",
   "mimetype": "text/x-python",
   "name": "python",
   "nbconvert_exporter": "python",
   "pygments_lexer": "ipython3",
   "version": "3.7.12"
  },
  "papermill": {
   "default_parameters": {},
   "duration": 42.314014,
   "end_time": "2023-04-26T10:13:36.131243",
   "environment_variables": {},
   "exception": null,
   "input_path": "__notebook__.ipynb",
   "output_path": "__notebook__.ipynb",
   "parameters": {},
   "start_time": "2023-04-26T10:12:53.817229",
   "version": "2.4.0"
  }
 },
 "nbformat": 4,
 "nbformat_minor": 5
}
